{
 "cells": [
  {
   "cell_type": "markdown",
   "metadata": {},
   "source": [
    "<div style=\"background-color: #0070C0; height: 60px; color:white;padding: 0 0 0 0%; font-size:2rem; margin-right: 40%\"> Data wrangling y generación de insights. </div>\n",
    "\n",
    "En este notebook repasaremos la exploración de datos (módulo 3) pero con un enfoque distinto. \n",
    "\n",
    "Aquí vamos a preparar un dataset que nos servirá para contestar preguntas específicas que nos ayudarán a proponer *insights* o hallazgos de interés.\n",
    "\n",
    "Al final nos centraremos únicamente en uno de esos hallazgos e intentaremos dos cosas:\n",
    "\n",
    "- Reproducir un gráfico propuesto.\n",
    "- Crear un gráfico desde cero.\n",
    "\n",
    "Para ello indetificarás las siguientes secciones:\n",
    "\n",
    "1. Limpieza y preparación del dataset.\n",
    "2. Exploración de datos.\n",
    "3. Graficando un hallazgo interesante.\n",
    "4. Pregunta de bonus.\n",
    "\n",
    "<div style=\"background-color: #0070C0; height: 30px; color:white;padding: 0 0 0 0%; font-size:2rem; margin-right: 40%\"></div>\n",
    "\n",
    "# 1. Limpieza y preparación del dataset.\n",
    "\n",
    "En esta sección vamos a limpiar y homologar nuestro dataset, así todos los equipos podrán partir del mismo conjunto de datos.\n",
    "\n",
    "**No es necesario que modifiques el código de esta parte**, sólo lee las celdas y trata de entender que se hace en cada una de ellas.\n",
    "\n",
    "En la siguiente sección ya no habrá código y tendrás que contestar las preguntas que se piden con lo que has aprendido de los diferentes módulos hasta ahora. \n",
    "\n",
    "__Consejo:__ Primordialmente dale preferencia al *data wrangling*, ya que ese arreglo de datos te permitirá _interrogar_ a tus datos de diferentes maneras."
   ]
  },
  {
   "cell_type": "markdown",
   "metadata": {},
   "source": [
    "Vamos a importar los tres datasets ya que tal vez necesitemos valores de alguno de ellos:"
   ]
  },
  {
   "cell_type": "code",
   "execution_count": null,
   "metadata": {},
   "outputs": [],
   "source": [
    "import pandas as pd\n",
    "import numpy as np\n",
    "import matplotlib.pyplot as plt\n",
    "import plotly.express as px\n",
    "\n",
    "df          = pd.read_csv(\"../../../../datasets/flights.csv\")  #Indica aqui el path y nombre de tu dataset flights.csv\n",
    "df_airports = pd.read_csv(\"../../../../datasets/airports.csv\") #Indica aqui el path y nombre de tu dataset airports.csv\n",
    "df_airlines = pd.read_csv(\"../../../../datasets/airlines.csv\") #Indica aqui el path y nombre de tu dataset airlines.csv"
   ]
  },
  {
   "cell_type": "markdown",
   "metadata": {},
   "source": [
    "Nos interesa evaluar únicamente aquellos aeropuertos de la IATA, por lo que nos quedaremos sólo con aquellos aeropuertos que se encuentran en nuestro dataset `airports`.\n",
    "\n",
    "La manera de hacer esta relación es a través de filtrar nuestro dataset. \n",
    "\n",
    "Vamos a hacer un subset basándonos en el código que se encuentra en `df_airports`."
   ]
  },
  {
   "cell_type": "code",
   "execution_count": null,
   "metadata": {},
   "outputs": [],
   "source": [
    "df_airports"
   ]
  },
  {
   "cell_type": "markdown",
   "metadata": {},
   "source": [
    "Para ello vamos a crear una lista `airport_code` a partir de la columna `IATA_CODE` de `df_airports` "
   ]
  },
  {
   "cell_type": "code",
   "execution_count": null,
   "metadata": {},
   "outputs": [],
   "source": [
    "airport_code = df_airports[\"IATA_CODE\"].tolist()"
   ]
  },
  {
   "cell_type": "markdown",
   "metadata": {},
   "source": [
    "Y vamos a filtrar nuestro dataset `df` utilizando esa lista. Observa que tomaremos en cuenta tanto `ORIGIN_AIRPORT` cómo `DESTINATION_AIRPORT`:"
   ]
  },
  {
   "cell_type": "code",
   "execution_count": null,
   "metadata": {},
   "outputs": [],
   "source": [
    "df[(df[\"ORIGIN_AIRPORT\"].isin(airport_code)) & (df[\"DESTINATION_AIRPORT\"].isin(airport_code))]"
   ]
  },
  {
   "cell_type": "markdown",
   "metadata": {},
   "source": [
    "Vamos a sobrescribir nuestra variable `df` con este nuevo dataset:"
   ]
  },
  {
   "cell_type": "code",
   "execution_count": null,
   "metadata": {},
   "outputs": [],
   "source": [
    "df = df[(df[\"ORIGIN_AIRPORT\"].isin(airport_code)) & (df[\"DESTINATION_AIRPORT\"].isin(airport_code))]"
   ]
  },
  {
   "cell_type": "markdown",
   "metadata": {},
   "source": [
    "Como nos interesan sólo los retrasos y no las cancelaciones, vamos a remover todas las filas que tienen cancelación:"
   ]
  },
  {
   "cell_type": "code",
   "execution_count": null,
   "metadata": {},
   "outputs": [],
   "source": [
    "df[df[\"CANCELLED\"]!=1]"
   ]
  },
  {
   "cell_type": "markdown",
   "metadata": {},
   "source": [
    "Vamos a sobrescribir nuestro dataset `df` con ese nuevo subset:"
   ]
  },
  {
   "cell_type": "code",
   "execution_count": null,
   "metadata": {},
   "outputs": [],
   "source": [
    "df = df[df[\"CANCELLED\"]!=1]"
   ]
  },
  {
   "cell_type": "markdown",
   "metadata": {},
   "source": [
    "Vamos a quitar las columnas relacionadas con la cancelación"
   ]
  },
  {
   "cell_type": "code",
   "execution_count": null,
   "metadata": {},
   "outputs": [],
   "source": [
    "df = df.drop(columns=[\"CANCELLED\",\"CANCELLATION_REASON\"])\n",
    "\n",
    "df"
   ]
  },
  {
   "cell_type": "markdown",
   "metadata": {},
   "source": [
    "Vamos a resetar nuestros índices:"
   ]
  },
  {
   "cell_type": "code",
   "execution_count": null,
   "metadata": {},
   "outputs": [],
   "source": [
    "df.reset_index(inplace=True, drop=True)\n",
    "df"
   ]
  },
  {
   "cell_type": "markdown",
   "metadata": {},
   "source": [
    "¿Recuerdas el __módulo 2__? ahí viste el poder de combinar bases de datos. Pues bien, ese tipo de manipulaciones también son parte de data wrangling y aqui vamos a utilizar una de esas operaciones. Vamos a crear un __inner join__ para traer los __estados__ de los aeropuertos.\n",
    "\n",
    "Con pandas vamos a hacer lo siguiente:"
   ]
  },
  {
   "cell_type": "code",
   "execution_count": null,
   "metadata": {},
   "outputs": [],
   "source": [
    "df_main = (df.merge(df_airports[[\"IATA_CODE\",\"STATE\"]],    #Inner join con un subset de df_airports\n",
    "                   left_on=\"ORIGIN_AIRPORT\",               #Unir aeropuerto de origen con\n",
    "                   right_on=\"IATA_CODE\",                   #el código IATA\n",
    "                   how=\"inner\")\n",
    "            .rename(columns={\"STATE\": \"Estado (origen)\"})  #Cambiamos el nombre de la variable a Estado (origen)\n",
    "            .drop(columns=[\"IATA_CODE\"])                   #Quitamos el código IATA\n",
    "            )\n",
    "\n",
    "df_main"
   ]
  },
  {
   "cell_type": "markdown",
   "metadata": {},
   "source": [
    "Y vamos a repetir lo mismo para el aeropuerto de destino, sólo que ahora ahoremos el join con `df_main` y sobreescribimos `df`"
   ]
  },
  {
   "cell_type": "code",
   "execution_count": null,
   "metadata": {},
   "outputs": [],
   "source": [
    "df = (df_main.merge(df_airports[[\"IATA_CODE\",\"STATE\"]],    #Inner join con un subset de df_airports\n",
    "                   left_on=\"DESTINATION_AIRPORT\",          #Unir aeropuerto destino con\n",
    "                   right_on=\"IATA_CODE\",                   #el código IATA\n",
    "                   how=\"inner\")\n",
    "            .rename(columns={\"STATE\": \"Estado (llegada)\"})  #Cambiamos el nombre de la variable a Estado (origen)\n",
    "            .drop(columns=[\"IATA_CODE\"])                   #Quitamos el código IATA\n",
    "            )\n",
    "\n",
    "df"
   ]
  },
  {
   "cell_type": "markdown",
   "metadata": {},
   "source": [
    "Por último vamos a crear una nueva columna llamada `Atraso`.\n",
    "\n",
    "Esta columna nos indicará si hubo un atraso o no.\n",
    "\n",
    "La manera en que definimos un atraso lo encontramos en nuestro material del primer módulo y se define cómo *Un vuelo que se encuentra 15 minutos o más tarde de su horario estipulado\"*"
   ]
  },
  {
   "cell_type": "code",
   "execution_count": null,
   "metadata": {},
   "outputs": [],
   "source": [
    "df[\"Atraso\"] = np.where((df[\"DEPARTURE_DELAY\"]<15) | (df[\"ARRIVAL_DELAY\"]<15),\"A tiempo\", \"Retraso\")\n",
    "df"
   ]
  },
  {
   "cell_type": "markdown",
   "metadata": {},
   "source": [
    "Excelente, tenemos un dataset con el cuál podemos contestar las preguntas que se nos piden de esta exploración guiada.\n",
    "\n",
    "En la **sección 2** se realizarán una serie de preguntas que tendrás que contestar aplicando algunas de las operaciones de data wrangling y/o graficando tus datos (similar a lo que hiciste en el módulo 3 pero con otro enfoque).\n",
    "\n",
    "En la **sección 3** se tomará uno de los insights generados en la sección 2 y se intentará replicar el gráfico alusivo a ese insight."
   ]
  },
  {
   "cell_type": "markdown",
   "metadata": {},
   "source": [
    "<div style=\"background-color: #0070C0; height: 30px; color:white;padding: 0 0 0 0%; font-size:2rem; margin-right: 40%\"></div>\n",
    "\n",
    "# 2. Exploración de datos.\n",
    "\n",
    "Esta sección es una __exploración guiada__. Tómalo cómo punto de partida e inspiración para cualquier proyecto de ciencia de datos y, principalmente, en la etapa de exploración que es dónde intentarás entender tus datos.\n",
    "\n",
    "Las preguntas que vienen a continuación son las mismas preguntas que vienen en tu archivo de word, recuerda contestarlas en ese archivo pero tomando en cuenta que en el word no subirás código, sólo contestarás la pregunta. \n",
    "\n",
    "Una vez que tengas todo listo, deberás subir el archivo word, con sus respuestas, en formato PDF y agregar también este notebook (en su formato original .ipynb) para evaluar la lógica que seguiste.\n",
    "\n",
    "El notebook es todo tuyo, que comience el análisis:"
   ]
  },
  {
   "cell_type": "markdown",
   "metadata": {},
   "source": [
    "## 2.1 Proporciones del dataset."
   ]
  },
  {
   "cell_type": "markdown",
   "metadata": {},
   "source": [
    "¿Cuántos vuelos con `Retraso` están registrados en nuestro dataset y cuántos vuelos sin retraso (`A tiempo`) están registrados en nuestro dataset? (variable creada previamente bajo el nombre de `Atraso`)"
   ]
  },
  {
   "cell_type": "code",
   "execution_count": null,
   "metadata": {},
   "outputs": [],
   "source": [
    "#Inserte código aquí\n",
    "num_delay = df[df['Atraso']=='Retraso']['Atraso'].count()\n",
    "num_ot = df[df['Atraso']=='A tiempo']['Atraso'].count()\n",
    "print(f\"Con retraso tenemos {num_delay:,} ({num_delay/df['Atraso'].count()*100:.2f})%\")\n",
    "print(f\"A tiempo tenemos {num_ot:,} ({num_ot/df['Atraso'].count()*100:.2f})%\")"
   ]
  },
  {
   "cell_type": "code",
   "execution_count": null,
   "metadata": {},
   "outputs": [],
   "source": [
    "\n",
    "px.pie(df, 'Atraso')\n"
   ]
  },
  {
   "cell_type": "markdown",
   "metadata": {},
   "source": [
    "¿Cuál es la __proporción__ de vuelos con __retraso__ respecto a __vuelos que estuvieron a tiempo__?\n",
    "\n",
    "__pista:__  proporción:= $\\frac{X_{retraso}}{X_{a tiempo}}$"
   ]
  },
  {
   "cell_type": "code",
   "execution_count": null,
   "metadata": {},
   "outputs": [],
   "source": [
    "#Inserte código aquí"
   ]
  },
  {
   "cell_type": "markdown",
   "metadata": {},
   "source": [
    "<div style=\"background-color: #4bb392; height: 25px; color:white;padding: 0 0 0 1%; font-size:1rem; margin-right: 40%\">Alerta de insight</div>\n",
    "\n",
    "Esta sencilla operación ya está generando un insight importante, y tiene que ver con la manera en la que __vas a crear tus conjuntos de datos de entrenamiento y de prueba__ (módulo 4).\n",
    "\n",
    "Vamos a contestar unas preguntas para confirmar este hallazgo.\n",
    "\n",
    "<div style=\"border-top: 1px solid #c9c9c9;\"></div>"
   ]
  },
  {
   "cell_type": "markdown",
   "metadata": {},
   "source": [
    "<div style=\"color:#c9c9c9\">Contesta en este markdown (haz doble click o presiona enter para editar)</div>\n",
    "\n",
    "¿Crees qué esa __proporción__ $\\frac{X_{retraso}}{X_{a tiempo}}$ influye en cómo vas a muestrear tu conjunto de datos para poder separarlo en datos de entrenamiento y datos de prueba? Explica tu respuesta.\n",
    "    \n",
    "    - Sí, por que al separar los sets de entrenamiento y prueba, queremos que contengan una buena distribución de ambos estados; de otra manera, nos arriesgaríamos a que hubiera solo un tipo de estado (ya que es mucho más predominante \"A tiempo\") en nuestros sets."
   ]
  },
  {
   "cell_type": "markdown",
   "metadata": {},
   "source": [
    "<div style=\"color:#c9c9c9\">Contesta en este markdown (haz doble click o presiona enter para editar)</div>\n",
    "\n",
    "¿Qué tipo de muestreo utilizarías para generar tu dataset de prueba y tu dataset de entrenamiento?\n",
    "\n",
    "    - Un muestreo estratificado para homologar la información en nuestros sets de entrenamiento y prueba"
   ]
  },
  {
   "cell_type": "markdown",
   "metadata": {},
   "source": [
    "<div style=\"background-color: #0070C0; height: 30px; color:white;padding: 0 0 0 0%; font-size:2rem; margin-right: 40%\"></div>\n",
    "\n",
    "## 2.2. Horario de retraso."
   ]
  },
  {
   "cell_type": "markdown",
   "metadata": {},
   "source": [
    "¿Cómo es la distribución de horarios de salida para todos los vuelos del dataset? (`SCHEDULED_DEPARTURE`).\n",
    "\n",
    "**Nota**: Si no vas a discretizar las horas y prefieres graficar un histograma, utiliza un número de bins de 200 (La variable está en formato de 24 horas, así que cualquier número cuyas decenas sean mayores a 59 carece de sentido)."
   ]
  },
  {
   "cell_type": "code",
   "execution_count": null,
   "metadata": {},
   "outputs": [],
   "source": [
    "#Inserte código aquí\n",
    "df[\"SCHEDULED_DEPARTURE\"].describe()"
   ]
  },
  {
   "cell_type": "code",
   "execution_count": null,
   "metadata": {},
   "outputs": [],
   "source": [
    "px.histogram(df, \"SCHEDULED_DEPARTURE\")\n"
   ]
  },
  {
   "cell_type": "markdown",
   "metadata": {},
   "source": [
    "```python\n",
    "def extractTime(l):\n",
    "    tt = (l.split(' ')[1]).split('.')[1][-4:]\n",
    "    return tt[:2] + ':' + tt[-2:]\n",
    "for t in df['SCHEDULED_DEPARTURE'].sample(5):\n",
    "    print(extractTime(str(pd.to_datetime(t))))\n",
    "df['Hora_salida'] = df[\"SCHEDULED_DEPARTURE\"].apply(lambda t: extractTime(str(pd.to_datetime(t))))\n",
    "```"
   ]
  },
  {
   "cell_type": "markdown",
   "metadata": {},
   "source": [
    "¿Cómo es la distribución de horarios para los vuelos que salieron `A tiempo`? (`SCHEDULED_DEPARTURE`).\n",
    "\n",
    "**Nota**: Si no vas a discretizar las horas y prefieres graficar un histograma, utiliza un número de bins de 200 (La variable está en formato de 24 horas, así que cualquier número cuyas decenas sean mayores a 59 carece de sentido)."
   ]
  },
  {
   "cell_type": "code",
   "execution_count": null,
   "metadata": {},
   "outputs": [],
   "source": [
    "\n",
    "#Inserte código aquí\n",
    "px.histogram(df[df['Atraso']=='A tiempo'], \"SCHEDULED_DEPARTURE\")\n"
   ]
  },
  {
   "cell_type": "markdown",
   "metadata": {},
   "source": [
    "¿Cómo es la distribución de horarios para los vuelos que salieron con `Retraso`? (`SCHEDULED_DEPARTURE`).\n",
    "\n",
    "**Nota**: Si no vas a discretizar las horas y prefieres graficar un histograma, utiliza un número de bins de 200 (La variable está en formato de 24 horas, así que cualquier número cuyas decenas sean mayores a 59 carece de sentido)."
   ]
  },
  {
   "cell_type": "code",
   "execution_count": null,
   "metadata": {},
   "outputs": [],
   "source": [
    "\n",
    "#Inserte código aquí\n",
    "px.histogram(df[df['Atraso']=='Retraso'], \"SCHEDULED_DEPARTURE\")\n"
   ]
  },
  {
   "cell_type": "markdown",
   "metadata": {},
   "source": [
    "<div style=\"background-color: #4bb392; height: 25px; color:white;padding: 0 0 0 1%; font-size:1rem; margin-right: 40%\">Alerta de insight</div>\n",
    "\n",
    "<div style=\"color:#c9c9c9\">Contesta en este markdown (haz doble click o presiona enter para editar)</div>\n",
    "\n",
    "¿Notas algún intervalo de horas o algún comportamiento que te haga pensar que existe un horario en los que hay más retrasos en los vuelos? (i.e.: de 9 a 12; de 1220 a 1530; etc) ¿Si es así, cuál es ese intervalo?\n",
    "\n",
    "    - Sí, el intervalo entre las 17:00 y las 21:00 parece tener un incremento para los retrasos"
   ]
  },
  {
   "cell_type": "markdown",
   "metadata": {},
   "source": [
    "<div style=\"background-color: #0070C0; height: 30px; color:white;padding: 0 0 0 0%; font-size:2rem; margin-right: 40%\"></div>\n",
    "\n",
    "## 2.3 Días de retraso."
   ]
  },
  {
   "cell_type": "markdown",
   "metadata": {},
   "source": [
    "¿Cuántos vuelos totales hay por día de la semana?"
   ]
  },
  {
   "cell_type": "code",
   "execution_count": null,
   "metadata": {},
   "outputs": [],
   "source": [
    "df['DAY_OF_WEEK'].value_counts()"
   ]
  },
  {
   "cell_type": "code",
   "execution_count": null,
   "metadata": {},
   "outputs": [],
   "source": [
    "\n",
    "#Inserte código aquí\n",
    "# MONTH \tDAY \tDAY_OF_WEEK\n",
    "px.histogram(df, \"DAY_OF_WEEK\")\n"
   ]
  },
  {
   "cell_type": "markdown",
   "metadata": {},
   "source": [
    "¿Cuántos vuelos que estuvieron a tiempo hay por día de la semana?"
   ]
  },
  {
   "cell_type": "code",
   "execution_count": null,
   "metadata": {},
   "outputs": [],
   "source": [
    "df[df['Atraso']=='A tiempo']['DAY_OF_WEEK'].value_counts()"
   ]
  },
  {
   "cell_type": "code",
   "execution_count": null,
   "metadata": {},
   "outputs": [],
   "source": [
    "\n",
    "#Inserte código aquí\n",
    "px.histogram(df[df['Atraso']=='A tiempo'], \"DAY_OF_WEEK\")\n"
   ]
  },
  {
   "cell_type": "markdown",
   "metadata": {},
   "source": [
    "¿Cuántos vuelos con retraso hay por día de la semana?"
   ]
  },
  {
   "cell_type": "code",
   "execution_count": null,
   "metadata": {},
   "outputs": [],
   "source": [
    "df[df['Atraso']=='Retraso']['DAY_OF_WEEK'].value_counts()"
   ]
  },
  {
   "cell_type": "code",
   "execution_count": null,
   "metadata": {},
   "outputs": [],
   "source": [
    "\n",
    "#Inserte código aquí\n",
    "px.histogram(df[df['Atraso']=='Retraso'], \"DAY_OF_WEEK\")\n"
   ]
  },
  {
   "cell_type": "code",
   "execution_count": null,
   "metadata": {},
   "outputs": [],
   "source": [
    "\"\"\"df.pivot_table(\n",
    "    values=None,\n",
    "    index=None,\n",
    "    columns=None,\n",
    "    aggfunc='mean',\n",
    "    fill_value=None,\n",
    "    margins=False,\n",
    "    dropna=True,\n",
    "    margins_name='All',\n",
    "    observed=False,\n",
    "    sort=True,\n",
    ") -> 'DataFrame'\n",
    "\"\"\"\n",
    "# df.pivot_table(index=\"Atraso\", columns=\"DAY_OF_WEEK\", aggfunc='sum' )"
   ]
  },
  {
   "cell_type": "code",
   "execution_count": null,
   "metadata": {},
   "outputs": [],
   "source": [
    "# df.groupby(\"DAY_OF_WEEK\")[\"Atraso\"].sum()"
   ]
  },
  {
   "cell_type": "code",
   "execution_count": null,
   "metadata": {},
   "outputs": [],
   "source": [
    "# px.bar(df[df['Atraso']=='Retraso']['DAY_OF_WEEK'].value_counts(), )"
   ]
  },
  {
   "cell_type": "markdown",
   "metadata": {},
   "source": [
    "<div style=\"background-color: #4bb392; height: 25px; color:white;padding: 0 0 0 1%; font-size:1rem; margin-right: 40%\">Alerta de insight</div>\n",
    "\n",
    "<div style=\"color:#c9c9c9\">Contesta en este markdown (haz doble click o presiona enter para editar)</div>\n",
    "\n",
    "\n",
    "Comparando las tres gráficas o las tres respuestas de esta sección. ¿Crees que exista algún día dónde los retrasos sean predominantes o escasos?"
   ]
  },
  {
   "cell_type": "markdown",
   "metadata": {},
   "source": [
    "<div style=\"background-color: #0070C0; height: 30px; color:white;padding: 0 0 0 0%; font-size:2rem; margin-right: 40%\"></div>\n",
    "\n",
    "## 2.4. Estados con mayor retraso."
   ]
  },
  {
   "cell_type": "markdown",
   "metadata": {},
   "source": [
    "¿Cuál es el número de vuelos totales de salida (u origen) por estado? (Utilizar variable `Estado (origen)`) "
   ]
  },
  {
   "cell_type": "code",
   "execution_count": null,
   "metadata": {},
   "outputs": [],
   "source": [
    "#Inserte código aquí\n",
    "df['Estado (origen)'].value_counts()"
   ]
  },
  {
   "cell_type": "markdown",
   "metadata": {},
   "source": [
    "¿Cuál es el número de vuelos de salida (u origen) __con retraso__ por estado? (Utilizar variable `Estado (origen)`) "
   ]
  },
  {
   "cell_type": "code",
   "execution_count": null,
   "metadata": {},
   "outputs": [],
   "source": [
    "#Inserte código aquí\n",
    "df[df['Atraso']==\"Retraso\"]['Estado (origen)'].value_counts()"
   ]
  },
  {
   "cell_type": "code",
   "execution_count": null,
   "metadata": {},
   "outputs": [],
   "source": [
    "px.bar(df[df['Atraso']==\"Retraso\"]['Estado (origen)'].value_counts().sort_values())"
   ]
  },
  {
   "cell_type": "markdown",
   "metadata": {},
   "source": [
    "¿Cuál es el porcentaje de vuelos de salida (u origen) __con retraso__ por estado? (Utilizar variable `Estado (origen)`) \n",
    "\n",
    "__pista:__ porcentaje de vuelos := *100 •* $\\frac{X_{retraso}}{X_{totales}}$ dónde $X$ es el número de vuelos de salida por estado (`Estado (origen)`)"
   ]
  },
  {
   "cell_type": "code",
   "execution_count": null,
   "metadata": {},
   "outputs": [],
   "source": [
    "#Inserte código aquí\n",
    "(df[df['Atraso']==\"Retraso\"]['Estado (origen)'].value_counts() / df['Estado (origen)'].value_counts() * 100).sort_values()"
   ]
  },
  {
   "cell_type": "code",
   "execution_count": null,
   "metadata": {},
   "outputs": [],
   "source": [
    "px.bar((df[df['Atraso']==\"Retraso\"]['Estado (origen)'].value_counts() / df['Estado (origen)'].value_counts() * 100).sort_values())"
   ]
  },
  {
   "cell_type": "markdown",
   "metadata": {},
   "source": [
    "<div style=\"color:#c9c9c9\">Contesta en este markdown (haz doble click o presiona enter para editar)</div>\n",
    "\n",
    "\n",
    "\n",
    "Compara tus tres gráficas o tus tres respuestas anteriores. Ordena tus outputs de mayor a menor (si todavía no lo haz hecho) y contesta:\n",
    "\n",
    "1. ¿Hay alguna diferencia entre el número de vuelos totales por estado, el número de vuelos con retraso por estado y el porcentaje de vuelos con retraso por estado?\n",
    "\n",
    "    - Sí, Texas tiene muchos vuelos con retrasos pero Delaware en porcentaje es mucho mayor sus vuelos con retrasos\n",
    "\n",
    "\n",
    "2. ¿Si quisieras comparar los vuelos con retraso por estado, aeropuerto, ciudad o cualquier otra variable, que utilizarías para realizar esa comparación, los valores totales o alguna tasa o razón cómo el porcentaje? ¿Porqué?\n",
    "\n",
    "    - Ambos, en porcentaje por que en donde hay más vuelos es esperado que haya más retrasos aunque en proporción nos dirá donde hay más patrones donde podamos encontrar causas que ocasionene los retrasos, aunque en totales siguen teniendo mayor impacto donde hay más retrasos totales"
   ]
  },
  {
   "cell_type": "markdown",
   "metadata": {},
   "source": [
    "¿Cuál es el porcentaje de vuelos de llegada  __con retraso__ por estado? (Utilizar variable `Estado (llegada)`) \n",
    "\n",
    "__pista:__ porcentaje de vuelos := *100 •* $\\frac{X_{retraso}}{X_{totales}}$ dónde $X$ es el número de vuelos de llegada por estado (`Estado (llegada)`)"
   ]
  },
  {
   "cell_type": "code",
   "execution_count": null,
   "metadata": {},
   "outputs": [],
   "source": [
    "(df[df['Atraso']==\"Retraso\"]['Estado (llegada)'].value_counts() / df['Estado (llegada)'].value_counts() * 100).sort_values()"
   ]
  },
  {
   "cell_type": "code",
   "execution_count": null,
   "metadata": {},
   "outputs": [],
   "source": [
    "#Inserte código aquí\n",
    "px.bar((df[df['Atraso']==\"Retraso\"]['Estado (llegada)'].value_counts() / df['Estado (llegada)'].value_counts() * 100).sort_values())"
   ]
  },
  {
   "cell_type": "markdown",
   "metadata": {},
   "source": [
    "<div style=\"background-color: #4bb392; height: 25px; color:white;padding: 0 0 0 1%; font-size:1rem; margin-right: 40%\">Alerta de insight</div>\n",
    "\n",
    "<div style=\"color:#c9c9c9\">Contesta en este markdown (haz doble click o presiona enter para editar)</div>\n",
    "\n",
    "Al utilizar porcentajes, y ordenar de mayor a menor los vuelos por estado, ¿Observas alguna diferencia entre los estados con más vuelos de salida retrasados y los estados con más vuelos de llegada con atraso?\n",
    "\n",
    "    - Sí, hay diferentes aeropuertos con mayor retrasos a excepción de DE que sigue siendo el mayor"
   ]
  },
  {
   "cell_type": "markdown",
   "metadata": {},
   "source": [
    "<div style=\"background-color: #0070C0; height: 30px; color:white;padding: 0 0 0 0%; font-size:2rem; margin-right: 40%\"></div>\n",
    "\n",
    "# 3. Graficando un hallazgo interesante.\n",
    "\n",
    "Intenta reproducir el siguiente gráfico. Si quieres hacerlo con python toma cómo referencia el `notebook` del laboratorio de _inisghts_. También puedes intentar replicarlo en otras plataformas o programas.\n",
    "\n",
    "![chart](data:image/png;base64,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)\n",
    "\n",
    "Este es un gráfico de pendientes (slope chart) y sirve para comparar el antes y después de una serie de datos, y si hablamos de contexto entre __salidas__ y __llegadas__, mostrar el antes y después podría ser una buena aproximación para visualizar que los estados con mayor número de retrasos en los vuelos de salida no son completamente los mismos estados con mayor número de retrasos en los vuelos de llegada.\n",
    "\n",
    "**Sugerencia**\n",
    "Trata de identificar los canales y las marcas. Analiza como podrías incluir esos canales diferentes. Para algunos aspectos visuales (tamaño de fuentes, remover border de la figura, etc.) toma cómo referencia el código de las gráficas de tu laboratorio de inisghts.\n",
    "\n"
   ]
  },
  {
   "cell_type": "code",
   "execution_count": null,
   "metadata": {},
   "outputs": [],
   "source": [
    "lateArrivalPercent = df[df['Atraso']==\"Retraso\"]['Estado (llegada)'].value_counts() / df['Estado (llegada)'].value_counts() * 100\n",
    "lateOriginPercent = df[df['Atraso']==\"Retraso\"]['Estado (origen)'].value_counts() / df['Estado (origen)'].value_counts() * 100\n",
    "arrival2latePercent = lateOriginPercent.to_frame().join(lateArrivalPercent.to_frame())\n",
    "arrival2latePercent.head()"
   ]
  },
  {
   "cell_type": "code",
   "execution_count": null,
   "metadata": {},
   "outputs": [],
   "source": [
    "#Inserte código aquí\n",
    "fig,ax = plt.subplots(1,figsize=(6.5,13.33))\n",
    "\n",
    "states = ['DE', 'GU']\n",
    "\n",
    "for s in arrival2latePercent.index:\n",
    "    cur = arrival2latePercent.loc[s]\n",
    "    if s in states:\n",
    "        color=\"#7e181e\"  # ginda\n",
    "        zi = 10\n",
    "        \n",
    "    else:\n",
    "        color=\"#cccccc\"  # gris\n",
    "        zi = 1  \n",
    "    \n",
    "    ax.plot(['Estado (origen)', 'Estado (llegada)'], cur, c=color, zorder=zi)\n",
    "    ax.scatter(x = 'Estado (origen)',\n",
    "               y = arrival2latePercent.loc[s]['Estado (origen)'],\n",
    "               c = color,\n",
    "               zorder = zi)\n",
    "    ax.scatter(x = 'Estado (llegada)',\n",
    "               y = arrival2latePercent.loc[s]['Estado (llegada)'],\n",
    "               c = color,\n",
    "               zorder = zi)\n",
    "\n",
    "ax.text(s='  Delaware',\n",
    "        x='Estado (llegada)',\n",
    "        y=arrival2latePercent.loc[states[0]]['Estado (llegada)'],\n",
    "        c = \"#8f8f8f\",\n",
    "        fontsize=12)\n",
    "\n",
    "ax.text(s='  Guam',\n",
    "        x='Estado (llegada)',\n",
    "        y=arrival2latePercent.loc[states[1]]['Estado (llegada)'],\n",
    "        c = \"#8f8f8f\",\n",
    "        fontsize=12)\n",
    "\n",
    "ax.text(s='Estados con vuelos\\natrasados en la salida',\n",
    "        x='Estado (origen)',\n",
    "        y=5,\n",
    "        c='#8f8f8f',\n",
    "        fontsize=12)\n",
    "\n",
    "ax.text(s='Estados con vuelos\\natrasados en la llegada',\n",
    "        x='Estado (llegada)',\n",
    "        y=5,\n",
    "        c='#8f8f8f',\n",
    "        fontsize=12)\n",
    "    \n",
    "ax.spines['top'].set_visible(False)\n",
    "ax.spines['right'].set_visible(False)\n",
    "ax.spines['bottom'].set_visible(False)\n",
    "    \n",
    "# X Axis\n",
    "plt.xticks([])\n",
    "\n",
    "# Y Axis\n",
    "ax.set_ylabel(\"Porcentaje de vuelos atrasados (%)\", size=16, loc=\"top\", color=\"#808080\")\n",
    "ax.tick_params(axis='y', labelsize=12, color=\"#808080\", labelcolor=\"#808080\")\n",
    "\n",
    "ax.set_ylim(0,50)\n",
    "\n",
    "ax.set_title('El aeropuerto de Guam tiene un mayor\\nporcentaje de atrasos en sus vuelos\\nde llegada en comparación con vuelos\\nde salida.',\n",
    "             loc=\"left\",                       #Colorcar título a la izquierda\n",
    "             size=18)                          #Tamaño de fuente de 18pts"
   ]
  },
  {
   "cell_type": "markdown",
   "metadata": {},
   "source": [
    "# Pregunta bonus.\n",
    "\n",
    "La diferencia en el porcentaje de vuelos de ida y de llegada, por estado, nos arrojó un insight interesante. Sin embargo, también sería valioso poder mostrar el número de vuelos totales junto con los porcentajes.\n",
    "\n",
    "De esa manera podríamos observar que Guam y Delaware son de los aeropuertos con un menor número de vuelos, y que, en porcentajes, California o Texas tienen un número de atrasos promedio pero una gran cantidad de vuelos.\n",
    "\n",
    "**¿De que formar representarías esos atributos en un gráfico?** (Número de vuelos totales y porcentaje de vuelos de salida y llegada por estado)\n",
    "\n",
    "Intenta crear ese gráfico, dale rienda suelta a tu creatividad y si puedes remarcar un *insight* interesante será aún mejor."
   ]
  },
  {
   "cell_type": "code",
   "execution_count": null,
   "metadata": {},
   "outputs": [],
   "source": [
    "#Inserte código aquí (si es que lo haces en python)"
   ]
  }
 ],
 "metadata": {
  "interpreter": {
   "hash": "802f5d5cf83364151a8eb6dc0bf7b77a59671c15e27291db6a9cef4bdbde229b"
  },
  "kernelspec": {
   "display_name": "Python 3 (ipykernel)",
   "language": "python",
   "name": "python3"
  },
  "language_info": {
   "codemirror_mode": {
    "name": "ipython",
    "version": 3
   },
   "file_extension": ".py",
   "mimetype": "text/x-python",
   "name": "python",
   "nbconvert_exporter": "python",
   "pygments_lexer": "ipython3",
   "version": "3.10.3"
  }
 },
 "nbformat": 4,
 "nbformat_minor": 2
}
