{
 "cells": [
  {
   "cell_type": "markdown",
   "metadata": {},
   "source": [
    "<div style=\"background-color: #0070C0; height: 60px; color:white;padding: 0 0 0 0%; font-size:2rem; margin-right: 40%\"> Laboratorio de generación de insights. </div>\n",
    "\n",
    "El siguiente laboratorio contiene el código que se utilizó para crear las gráficas de la lección __insights__. Puedes jugar con el, cambiar el código y probar lo que te venga en mente. \n",
    "\n",
    "No es necesario que leas todo el código, pero __puedes aventurarte y contestar algunas preguntas que vienen en los comentarios__.\n",
    "\n",
    "Conforme sigamos avanzando en el módulo vas a comprender porque la decisión de algunas partes del código."
   ]
  },
  {
   "cell_type": "markdown",
   "metadata": {},
   "source": [
    "# Outliers.\n",
    "\n",
    "En esta sección mostramos el código detrás de un gráfico para ejemplificar cómo los outliers pueden ser insights interesantes a mostrar en un gráfico.\n",
    "\n",
    "Primero importemos pandas, matplotlib y plotly"
   ]
  },
  {
   "cell_type": "code",
   "execution_count": null,
   "metadata": {},
   "outputs": [],
   "source": [
    "import pandas as pd\n",
    "import matplotlib.pyplot as plt\n",
    "import plotly.express as  px"
   ]
  },
  {
   "cell_type": "markdown",
   "metadata": {},
   "source": [
    "Luego utilicemos el dataset de cars que viene en nuestro archivo zip"
   ]
  },
  {
   "cell_type": "code",
   "execution_count": null,
   "metadata": {},
   "outputs": [],
   "source": [
    "df = pd.read_csv(\"../datasets/raw/cars.csv\")\n",
    "df"
   ]
  },
  {
   "cell_type": "markdown",
   "metadata": {},
   "source": [
    "Para explorar e identificar algunos vehículos vamos a crear un gráfico con plotly"
   ]
  },
  {
   "cell_type": "code",
   "execution_count": null,
   "metadata": {},
   "outputs": [],
   "source": [
    "import plotly.express as  px\n",
    "\n",
    "px.scatter(x=\"weight\", y=\"mpg\",data_frame=df.reset_index(),hover_data=[\"index\", \"car name\"])\n",
    "\n"
   ]
  },
  {
   "cell_type": "markdown",
   "metadata": {},
   "source": [
    "Observa que __hay algunos outliers cerca a 3000 lb y entre 30 y 45 mpg__. Al pasar el mouse sobre esos puntos podemos extraer los índices y generar el gráfico de la celda siguiente."
   ]
  },
  {
   "cell_type": "code",
   "execution_count": null,
   "metadata": {},
   "outputs": [],
   "source": [
    "import matplotlib.pyplot as plt\n",
    "\n",
    "#Configurando el tamaño del canvas------------------------------------------------------------\n",
    "fig,ax = plt.subplots(1,figsize=(13.333,6.5)) #Configuración inicial del gráfico\n",
    "fig.patch.set_facecolor('xkcd:white')         #Color del fondo de la gráfica\n",
    "\n",
    "#Graficar todos los puntos --------------------------------------------------------------------\n",
    "df.plot.scatter(\"weight\",                     #Variable en x\n",
    "                \"mpg\",                        #Variable en y\n",
    "                ax=ax,                        #Objeto de matplotlib que contiene el gráfico\n",
    "                s=90,                         #Tamaño de la geometría.\n",
    "                c=\"#cccccc\")                  #Color de la geometría\n",
    "\n",
    "#Graficar individualmente: --------------------------------------------------------------------\n",
    "#Graficar un punto\n",
    "(df                                           #Dirigite al dataset \"df\"\n",
    "  .iloc[387]                                  #Filtra por el índice 387\n",
    "  .to_frame()                                 #Convierte el pandas series a dataframe\n",
    "  .T                                          #Convierte el dataset en su transpuesta\n",
    "  .plot                                       #Preparate a graficar\n",
    "  .scatter(\"weight\",                          #Variable en x\n",
    "           \"mpg\",                             #Variable en y\n",
    "           ax=ax,                             #Objeto de matplotlib que contiene el gráfico\n",
    "           s=90,                              #Tamaño de la geometría.\n",
    "           c=\"#4464c2\"))                      #Color de la geometría de ese punto esécífico\n",
    "\n",
    "#Graficar una anotación\n",
    "ax.text(s = df.iloc[387][\"car name\"],         #Filtra por el indice 87 e imprime su \"car name\"\n",
    "        x = df.iloc[387][\"weight\"] + 50,      #Filtra por el indice 87 y asigna variable x y mueve 50 unidades a la derecha\"\n",
    "        y = df.iloc[387][\"mpg\"],              #Filtra por el indice 87 y asigna variable y\"\n",
    "        size = 14)                            #Tamaño del texto\n",
    "\n",
    "#Repetir paso anterior con puntos 327 y 333:\n",
    "df.iloc[327].to_frame().T.plot.scatter(\"weight\",\"mpg\",ax=ax,s=90,c=\"#4464c2\")\n",
    "ax.text(s = df.iloc[327][\"car name\"], \n",
    "        x = df.iloc[327][\"weight\"] + 50, \n",
    "        y = df.iloc[327][\"mpg\"] - 1, \n",
    "        size = 14)\n",
    "\n",
    "\n",
    "df.iloc[333].to_frame().T.plot.scatter(\"weight\",\"mpg\",ax=ax,s=90,c=\"#4464c2\")\n",
    "ax.text(s = df.iloc[333][\"car name\"], \n",
    "        x = df.iloc[333][\"weight\"] + 50, \n",
    "        y = df.iloc[333][\"mpg\"] - 0.5, \n",
    "        size = 14)\n",
    "\n",
    "#Formato de componentes de un gráfico -----------------------------------------------------------\n",
    "#Eje x\n",
    "ax.set_xlabel(\"Peso (lb)\",                     #Etiqueta del eje x\n",
    "                size=20,                       #Tamaño de fuente\n",
    "                loc=\"left\",                    #Orientación a la izquierda\n",
    "                color=\"#808080\")               #Color de fuente\n",
    "ax.tick_params(axis='x',                       #Configurar eje x\n",
    "                labelsize=15,                  #Tamaños del texto de los ticks del eje\n",
    "                labelcolor=\"#808080\",          #Color del texto de los ticks del eje\n",
    "                color=\"#808080\")               #Color de los ticks\n",
    "\n",
    "#Eje y\n",
    "ax.set_ylabel(\"Millas por galón\", size=20, loc=\"top\", color=\"#808080\")\n",
    "ax.tick_params(axis='y', labelsize=15, color=\"#808080\", labelcolor=\"#808080\")\n",
    "\n",
    "# Remover ejes sobrantes\n",
    "ax.spines['right'].set_visible(False)\n",
    "ax.spines['top'].set_visible(False)\n",
    "#Cambiando el color de los ejes que se muestran\n",
    "ax.spines['bottom'].set_color('#808080')\n",
    "ax.spines['left'].set_color('#808080') \n",
    "\n",
    "# Mostrar solo ticks en los ejes que se grafican\n",
    "ax.xaxis.set_ticks_position('bottom')\n",
    "ax.yaxis.set_ticks_position('left')\n",
    "ax.set_yticks([0,10,20,30,40,50])              #Forzar al eje y a tener ticks específicos\n",
    "\n",
    "ax.set_title('Algunos vehículos de peso \"mediano\" con alto rendimiento.\\n',\n",
    "             loc=\"left\",                       #Colorcar título a la izquierda\n",
    "             size=24)                          #Tamaño de fuente de 24pts\n",
    "\n",
    "plt.show()\n"
   ]
  },
  {
   "cell_type": "markdown",
   "metadata": {},
   "source": [
    "# Patrones diferentes.\n",
    "\n",
    "El dataset sobre defunciones muestra diversas causas de defunción y su evolución a través del tiempo. La gran mayoría de las causas de defunción parecieran ir en incremento, siendo la principal las enfermedades cardiovasculares.\n",
    "\n",
    "Sin embargo, existen países dónde esa tendencia incremental no se hace presente y, en cambio, tienen una tendencia a disminuir año año.\n",
    "\n",
    "Ese es un ejemplo de otro tipo de insight, un patrón que se comporta diferente al resto.\n",
    "\n",
    "Vamos a ver cómo resaltar ese patrón."
   ]
  },
  {
   "cell_type": "code",
   "execution_count": null,
   "metadata": {},
   "outputs": [],
   "source": [
    "#Cargando el dataset\n",
    "df = pd.read_csv(\"../datasets/raw/20222703 Causes Of Death Clean Output V2.0.csv\")\n",
    "\n",
    "df.head(10)"
   ]
  },
  {
   "cell_type": "markdown",
   "metadata": {},
   "source": [
    "Aqui vamos a utilizar lo que hemos visto de _data wrangling_.\n",
    "\n",
    "Vamos a crear un método en cadena de pandas (_pipeline_). \n",
    "\n",
    "El primer paso es seleccionar y filtrar los datos por causa de defunción, __vamos a seleecionar las enfermedades cardiovasculres__. El segundo paso es __agrupar por año y país__, el agregado es la __suma del número de decesos.__"
   ]
  },
  {
   "cell_type": "code",
   "execution_count": null,
   "metadata": {},
   "outputs": [],
   "source": [
    "df_cardio = (df[df[\"Causes name\"]==\"Cardiovascular diseases\"]               #Filtrar por enfermedades cardiovasculares\n",
    "                .groupby([\"Year\",\"Entity\"],as_index=False)[\"Death Numbers\"] #Agrupar y agregar\n",
    "                .sum())\n",
    "\n",
    "df_cardio"
   ]
  },
  {
   "cell_type": "markdown",
   "metadata": {},
   "source": [
    "En el registro del dataset aparece `America` como una entidad, vamos a eliminarla del dataset y sobre escribir el nombre de `df_cardio`"
   ]
  },
  {
   "cell_type": "code",
   "execution_count": null,
   "metadata": {},
   "outputs": [],
   "source": [
    "df_cardio = df_cardio[df_cardio[\"Entity\"] != \"America\"]"
   ]
  },
  {
   "cell_type": "markdown",
   "metadata": {},
   "source": [
    "__¿Qué países han disminuido los fallecimientos por enfermedades cardiovasculares?__ Para contestar esa pregunta podemos hacer una aproximación rápida y tomar sólo el año inicial (1990) y el año final (2019). Posteriormente __pivoteamos__ el dataset utilizando `Entity` como pivote (índice); luego __restamos__ el número de fallecimientos y nos quedamos con los países que tengan una pendiente negativa (disminución). "
   ]
  },
  {
   "cell_type": "code",
   "execution_count": null,
   "metadata": {},
   "outputs": [],
   "source": [
    "df2= (df_cardio[df_cardio[\"Year\"].isin([1990,2019])]     #Filtra valores de 1990 y 2019 (¿qué es 'isin'?)\n",
    "        .pivot_table(index=\"Entity\",                     #Pivotea y asigna 'Entity' cómo index\n",
    "                     columns=\"Year\",                     #Las columnas serán los años\n",
    "                     values=\"Death Numbers\"))            #Los valores el número de decesos.\n",
    "\n",
    "df2"
   ]
  },
  {
   "cell_type": "code",
   "execution_count": null,
   "metadata": {},
   "outputs": [],
   "source": [
    "#Restar valores iniciales y finales\n",
    "df2[\"slope\"] = df2[2019] - df2[1990]\n",
    "\n",
    "#Seleccionar aquellos con pendiente negativa:\n",
    "df2[df2[\"slope\"] <= 0]"
   ]
  },
  {
   "cell_type": "markdown",
   "metadata": {},
   "source": [
    "Con el dataset `df2` podríamos saber que país tuvo una disminución significativa en los casos de enfermedades cardiovasculares."
   ]
  },
  {
   "cell_type": "code",
   "execution_count": null,
   "metadata": {},
   "outputs": [],
   "source": [
    "#Seleccionar aquellos con pendiente negativa y ordernar:\n",
    "df2[df2[\"slope\"] < 0].sort_values(by=\"slope\")      #¿Qué hace sort_values?"
   ]
  },
  {
   "cell_type": "markdown",
   "metadata": {},
   "source": [
    "Ahora sabemos que el país que queremos resaltar cómo Inisght es Reino Unido."
   ]
  },
  {
   "cell_type": "code",
   "execution_count": null,
   "metadata": {},
   "outputs": [],
   "source": [
    "import matplotlib.pyplot as plt\n",
    "import matplotlib.ticker as ticker\n",
    "\n",
    "#Configurando el tamaño del canvas------------------------------------------------------------\n",
    "fig,ax = plt.subplots(1,figsize=(6.5,6.5))   #Configuración inicial del gráfico\n",
    "fig.patch.set_facecolor('xkcd:white')         #Color del fondo de la gráfica\n",
    "\n",
    "countries = df_cardio.Entity.unique()         #Generar una lista de países\n",
    "\n",
    "for country in countries:                     #Se graficará país por país. Esto tomará ALGUNOS SEGUNDOS\n",
    "    subset = df_cardio.loc[                   #.loc? que será el .loc?\n",
    "                df_cardio[\"Entity\"]==country] #Filtrar por país\n",
    "    if country == \"United Kingdom\":           #Si el país es United Kingdom\n",
    "        color=\"#4464c2\"                       #Asigna un color azul\n",
    "        z_index = 10                          #Colocar al frente\n",
    "\n",
    "    else:                                     #Si no lo es:\n",
    "        color=\"#cccccc\"                       #Asigna un color gris\n",
    "        z_index = 1                           #Colocar al fondo\n",
    "    \n",
    "    ax.plot(subset[\"Year\"],                   #Asigna Year como eje x\n",
    "            subset[\"Death Numbers\"],          #Número de fallecimientos como Y\n",
    "            c=color,\n",
    "            zorder = z_index)                 #Y el color que seleccionamos en el paso anterior\n",
    "\n",
    "\n",
    "#Crear dos subsets uno para 1990 y otro para 2019\n",
    "subset90 = df_cardio.loc[df_cardio[\"Year\"] == 1990]\n",
    "subset19 = df_cardio.loc[df_cardio[\"Year\"] == 2019]\n",
    "\n",
    "#Agregar las anotaciones de países de contexto: --------------------------------------------------\n",
    "countries = [\"China\", \"India\"]\n",
    "\n",
    "#¿Puedes describir que hacen las líneas de código 35 q 46?\n",
    "for country in countries:\n",
    "    ax.text(s=country,\n",
    "            x=2020,\n",
    "            y=subset19[subset19[\"Entity\"]==country][\"Death Numbers\"],\n",
    "            c = \"#8f8f8f\",\n",
    "            fontsize=12)\n",
    "    ax.scatter(x = 1990,\n",
    "               y = subset90[subset90[\"Entity\"]==country][\"Death Numbers\"],\n",
    "               c = \"#c9c9c9\")\n",
    "    ax.scatter(x = 2019,\n",
    "               y = subset19[subset19[\"Entity\"]==country][\"Death Numbers\"],\n",
    "               c = \"#c9c9c9\")\n",
    "#-------------------------------------------------------------------------------------------------\n",
    "\n",
    "#Agregar las anotaciones de países de insights:\n",
    "#¿Puedes describir que hacen las siguientes líneas de código?\n",
    "ax.text(s=\"Rusia reporta disminución de casos\\nposterior al 2005\",\n",
    "        x=2020,\n",
    "        y=subset19[subset19[\"Entity\"]==\"Russia\"][\"Death Numbers\"],\n",
    "        c= \"#8f8f8f\",\n",
    "        fontsize=12)\n",
    "ax.scatter(x = 1990,\n",
    "            y = subset90[subset90[\"Entity\"]==\"Russia\"][\"Death Numbers\"],\n",
    "            c = \"#c9c9c9\")\n",
    "ax.scatter(x = 2019,\n",
    "            y = subset19[subset19[\"Entity\"]==\"Russia\"][\"Death Numbers\"],\n",
    "            c = \"#c9c9c9\")\n",
    "\n",
    "\n",
    "ax.text(s=\"Reino Unido\",\n",
    "        x=2020,\n",
    "        y=subset19[subset19[\"Entity\"]==\"United Kingdom\"][\"Death Numbers\"],\n",
    "        c= \"#4464c2\",\n",
    "        fontsize=12)\n",
    "ax.scatter(x = 1990,\n",
    "            y = subset90[subset90[\"Entity\"]==\"United Kingdom\"][\"Death Numbers\"],\n",
    "            c = \"#4464c2\")\n",
    "ax.scatter(x = 2019,\n",
    "            y = subset19[subset19[\"Entity\"]==\"United Kingdom\"][\"Death Numbers\"],\n",
    "            c = \"#4464c2\")        \n",
    "\n",
    "#------------------------------------------------------------------------------------------------\n",
    "#Formato de componentes de un gráfico -----------------------------------------------------------\n",
    "#Eje x\n",
    "ax.set_xlabel(\"Años\",                         #Etiqueta del eje x\n",
    "                size=16,                      #Tamaño de fuente\n",
    "                loc=\"left\",                   #Orientación a la izquierda\n",
    "                color=\"#808080\")              #Color de fuente\n",
    "ax.tick_params(axis='x',                      #Configurar eje x\n",
    "                labelsize=12,                 #Tamaños del texto de los ticks del eje\n",
    "                labelcolor=\"#808080\",         #Color del texto de los ticks del eje\n",
    "                color=\"#808080\")              #Color de los ticks\n",
    "\n",
    "#Eje y\n",
    "ax.set_ylabel(\"Número de fallecimientos\", size=16, loc=\"top\", color=\"#808080\")\n",
    "ax.tick_params(axis='y', labelsize=12, color=\"#808080\", labelcolor=\"#808080\")\n",
    "\n",
    "# Remover ejes sobrantes\n",
    "ax.spines['right'].set_visible(False)\n",
    "ax.spines['top'].set_visible(False)\n",
    "#Cambiando el color de los ejes que se muestran\n",
    "ax.spines['bottom'].set_color('#808080')\n",
    "ax.spines['left'].set_color('#808080') \n",
    "\n",
    "\n",
    "# Mostrar solo ticks en los ejes que se grafican\n",
    "ax.xaxis.set_ticks_position('bottom')\n",
    "ax.yaxis.set_ticks_position('left')\n",
    "\n",
    "\n",
    "ax.set_title('Reino Unido ha logrado mantener a la\\nbaja los fallecimientos por enfermedades \\ncardiovasculares.\\n',\n",
    "             loc=\"left\",                       #Colorcar título a la izquierda\n",
    "             size=18)                          #Tamaño de fuente de 18pts\n",
    "\n",
    "ax.yaxis.set_major_formatter(ticker.EngFormatter()) #Haciendo el formato del eje legible\n",
    "ax.set_xlim(1988,2080)                              #Estableciendo un límite\n",
    "                                                    #¿Qué pasa si cambias ese límite?\n",
    "                                                    #¿Cambia la forma en que se ve el gráfico?\n",
    "ax.set_xticks([1990,2005,2020])\n",
    "\n",
    "plt.show()\n"
   ]
  },
  {
   "cell_type": "markdown",
   "metadata": {},
   "source": [
    "# Explicar modelos de machine learning.\n",
    "\n",
    "¿Recuerdas el módulo 3? En ese módulo abordamos la __importancia de variables__ y saber que variables te pueden funcionar en un modelo de machine learning también puede ser un _inisght_ importante.\n",
    "\n",
    "Por ejemplo, basándonos en el notebook [07 - Importancia de Variables], podríamos obtener el siguiente gráfico y resaltar las variables con un coeficiente de correlación mayor a 0.5.\n",
    "\n",
    "Al igual que en aquel notebook, carguemos nuestro dataset\n"
   ]
  },
  {
   "cell_type": "code",
   "execution_count": null,
   "metadata": {},
   "outputs": [],
   "source": [
    "df = pd.read_csv('https://raw.githubusercontent.com/Shreyas3108/house-price-prediction/master/kc_house_data.csv')\n",
    "\n",
    "df"
   ]
  },
  {
   "cell_type": "markdown",
   "metadata": {},
   "source": [
    "Ahora, calculemos el coeficiente de correlación y seleccionemos únicamente la variable `price`.\n",
    "\n",
    "Observa que hemos quitado la variable `id` y el precio después de crear el subset."
   ]
  },
  {
   "cell_type": "code",
   "execution_count": null,
   "metadata": {},
   "outputs": [],
   "source": [
    "price_df = (df.drop(columns=[\"id\"])    #Remover columna id\n",
    "            .corr()[\"price\"]           #Mostrar precio\n",
    "            .to_frame()                #Convertir a frame\n",
    "            .sort_values(by=\"price\")   #Ordenar valores\n",
    "            .drop(\"price\")             #Quitar price porque es la misma variable y R=1\n",
    "            )            \n",
    "\n",
    "price_df"
   ]
  },
  {
   "cell_type": "markdown",
   "metadata": {},
   "source": [
    "Ahora podemos graficar el coeficiente de correlación de nuestras variables."
   ]
  },
  {
   "cell_type": "code",
   "execution_count": null,
   "metadata": {},
   "outputs": [],
   "source": [
    "import matplotlib.pyplot as plt\n",
    "import matplotlib.ticker as ticker\n",
    "import numpy as np\n",
    "\n",
    "#Configurando el tamaño del canvas------------------------------------------------------------\n",
    "fig,ax = plt.subplots(1,figsize=(13.333,6.5))          #Configuración inicial del gráfico\n",
    "fig.patch.set_facecolor('xkcd:white')                  #Color del fondo de la gráfica\n",
    "   \n",
    "price_df.plot.barh(ax=ax,legend=False)                 #Al utilizar pandas como 'render' genera leyendas\n",
    "                                                       #de manera automatica, por eso las forzamos\n",
    "                                                       #a que sea False\n",
    "\n",
    "#Cambiar color sólo si R >0.5\n",
    "prices = price_df[\"price\"].to_list()                   #Vamos a iterar sobre todas las variables\n",
    "for i,_ in enumerate(prices):\n",
    "    if prices[i] > 0.5:                                #Si R es mayor a 0.5 entonces:\n",
    "        ax.get_children()[i].set_color(\"#4464c2\")      #Colorea de azul el elemento i\n",
    "    else:\n",
    "        ax.get_children()[i].set_color(\"#c9c9c9\")      #Sino, colorea ese elemento i de gris\n",
    "    \n",
    "    #Agregar los valores porque vamos a quitar el eje x\n",
    "    ax.text(s = str(np.round(prices[i],2)),            #Aprovechamos el for loop para agregar los valores\n",
    "            x = prices[i]+.01,\n",
    "            y = i-.2,\n",
    "            color=\"#808080\")\n",
    "\n",
    "#------------------------------------------------------------------------------------------------\n",
    "#Formato de componentes de un gráfico -----------------------------------------------------------\n",
    "#Eje y\n",
    "ax.tick_params(axis='y', labelsize=14, color=\"#808080\", labelcolor=\"#808080\")\n",
    "\n",
    "# Remover todos los ejes y dejar sólo las variables.\n",
    "ax.spines['right'].set_visible(False)\n",
    "ax.spines['top'].set_visible(False)\n",
    "ax.spines['bottom'].set_visible(False)\n",
    "ax.spines['left'].set_visible(False)\n",
    "ax.xaxis.set_ticklabels([])\n",
    "ax.xaxis.set_ticks([])\n",
    "\n",
    "ax.set_title('Coeficiente de correlación para los predictores de la variable precio.\\n',\n",
    "             loc=\"right\",                       #Colorcar título a la izquierda\n",
    "             size=24)                          #Tamaño de fuente de 18pts\n",
    "\n",
    "plt.show()"
   ]
  },
  {
   "cell_type": "markdown",
   "metadata": {},
   "source": [
    "# Fin del laboratorio.\n",
    "\n",
    "Tal como pudiste ver, hay manera de resaltar los insights que consideremos importantes. En este notebook te mostramos como crear gráficos orientados a resaltar un aspecto importante de la información contenida en un gráfico.\n",
    "\n",
    "Al final tu podrías resaltar el patrón o información que creas más importante o interesante para compartir. Recuerda, eso dependerá del proyecto y lo que estes buscando resolver con tus datos.\n",
    "\n",
    "En las lecciones siguientes profundizaremos en otros conceptos que te permitirán apreciar porque es importante ir conociendo esta forma de manipular tus gráficos."
   ]
  }
 ],
 "metadata": {
  "interpreter": {
   "hash": "802f5d5cf83364151a8eb6dc0bf7b77a59671c15e27291db6a9cef4bdbde229b"
  },
  "kernelspec": {
   "display_name": "Python 3.8.9 ('.cfm_env')",
   "language": "python",
   "name": "python3"
  },
  "language_info": {
   "codemirror_mode": {
    "name": "ipython",
    "version": 3
   },
   "file_extension": ".py",
   "mimetype": "text/x-python",
   "name": "python",
   "nbconvert_exporter": "python",
   "pygments_lexer": "ipython3",
   "version": "3.8.9"
  },
  "orig_nbformat": 4
 },
 "nbformat": 4,
 "nbformat_minor": 2
}
