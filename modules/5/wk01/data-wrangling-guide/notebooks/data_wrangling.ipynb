{
 "cells": [
  {
   "cell_type": "markdown",
   "metadata": {},
   "source": [
    "<div style=\"background-color: #0070C0; height: 60px; color:white;padding: 0 0 0 0%; font-size:2rem; margin-right: 40%\"> Data Wrangling. Transformando los datos para darles sentido. </div>\n",
    "\n",
    "Explorar un conjunto de datos no es una operación trivial, requiere modificar la estructura de los datos, transformarlos, filtrarlos e interrogarlos hasta poder extraer información relevante para un problema en cuestión.\n",
    "\n",
    "Estos procesos de data wrangling no son ajenos a la visualización de datos, de hecho, para poder crear algunas gráficas es necesario transformar los datos. Además, si consideramos que al momento de crear gráficas es necesario iniciar con una pregunta, los procesos de data wrangling nos ayudarán a transformar nuestros datos y lograr acercarnos a graficar algo que nos ayudará a contestar esas preguntas.\n",
    "\n",
    "En el siguiente notebook encontrarás alguno de los comandos más usados en data wrangling y python, además de ejemplos de cómo visualizar datos a partir de estas transformaciones."
   ]
  },
  {
   "cell_type": "code",
   "execution_count": null,
   "metadata": {},
   "outputs": [],
   "source": [
    "import pandas as pd\n",
    "import matplotlib.pyplot as plt\n",
    "import plotly.express as px"
   ]
  },
  {
   "cell_type": "code",
   "execution_count": null,
   "metadata": {},
   "outputs": [],
   "source": [
    "df = pd.read_csv(\"../datasets/raw/20222703 Causes Of Death Clean Output V2.0.csv\")\n",
    "df"
   ]
  },
  {
   "cell_type": "code",
   "execution_count": null,
   "metadata": {},
   "outputs": [],
   "source": [
    "pd.DataFrame(df[df[\"Entity\"]==\"Mexico\"][\"Causes name\"].value_counts())"
   ]
  },
  {
   "cell_type": "markdown",
   "metadata": {},
   "source": [
    "# Seleccionar columnas.\n",
    "\n",
    "¿Cuáles son las causas de defunción contenidas en el dataset?"
   ]
  },
  {
   "cell_type": "code",
   "execution_count": null,
   "metadata": {},
   "outputs": [],
   "source": [
    "df[\"Causes name\"]"
   ]
  },
  {
   "cell_type": "code",
   "execution_count": null,
   "metadata": {},
   "outputs": [],
   "source": [
    "print(f'¿Cuáles son las causas de defunción contenidas en el dataset? \\n {df[\"Causes name\"].unique()}')"
   ]
  },
  {
   "cell_type": "code",
   "execution_count": null,
   "metadata": {},
   "outputs": [],
   "source": [
    "print(f'¿Cuántas son las causas de defunción contenidas en el dataset? \\n {df[\"Causes name\"].nunique()}')"
   ]
  },
  {
   "cell_type": "markdown",
   "metadata": {},
   "source": [
    "# Filtrar\n",
    "\n",
    "¿Cuántas muertes ocurrieron en el último año?"
   ]
  },
  {
   "cell_type": "code",
   "execution_count": null,
   "metadata": {},
   "outputs": [],
   "source": [
    "df[df[\"Year\"] == 2019]"
   ]
  },
  {
   "cell_type": "code",
   "execution_count": null,
   "metadata": {},
   "outputs": [],
   "source": [
    "df2019 = df[df[\"Year\"] == 2019]\n",
    "\n",
    "df2019[\"Death Numbers\"].sum()"
   ]
  },
  {
   "cell_type": "markdown",
   "metadata": {},
   "source": [
    "¿Cuántas muertes se registraron en años previos al 2019?"
   ]
  },
  {
   "cell_type": "code",
   "execution_count": null,
   "metadata": {},
   "outputs": [],
   "source": [
    "df_rest = df[df[\"Year\"] != 2019]\n",
    "df_rest[\"Death Numbers\"].sum()"
   ]
  },
  {
   "cell_type": "markdown",
   "metadata": {},
   "source": [
    "# Agregados.\n",
    "\n",
    "## Agrupar y sumar.\n",
    "\n",
    "¿Cuál ha sido la tendencia de defunciones por año?"
   ]
  },
  {
   "cell_type": "code",
   "execution_count": null,
   "metadata": {},
   "outputs": [],
   "source": [
    "df.groupby(\"Year\")[\"Death Numbers\"].sum().plot()"
   ]
  },
  {
   "cell_type": "code",
   "execution_count": null,
   "metadata": {},
   "outputs": [],
   "source": [
    "dth_by_year = df.groupby(\"Year\",as_index=False)[\"Death Numbers\"].sum()\n",
    "\n",
    "fig = plt.figure(figsize=(13.333,7.5))\n",
    "\n",
    "plt.plot(dth_by_year[\"Year\"], dth_by_year[\"Death Numbers\"])\n",
    "\n",
    "plt.show()"
   ]
  },
  {
   "cell_type": "code",
   "execution_count": null,
   "metadata": {},
   "outputs": [],
   "source": [
    "dth_by_year = df.groupby(\"Year\",as_index=False)[\"Death Numbers\"].sum()\n",
    "\n",
    "fig = plt.figure(figsize=(13.333,7.5))\n",
    "\n",
    "plt.bar(dth_by_year[\"Year\"], dth_by_year[\"Death Numbers\"])\n",
    "\n",
    "plt.show()"
   ]
  },
  {
   "cell_type": "markdown",
   "metadata": {},
   "source": [
    "¿Cuál es el promedio de defunciones por año?"
   ]
  },
  {
   "cell_type": "code",
   "execution_count": null,
   "metadata": {},
   "outputs": [],
   "source": [
    "dth_by_year = df.groupby(\"Year\",as_index=False)[\"Death Numbers\"].mean()\n",
    "\n",
    "fig = plt.figure(figsize=(13.333,7.5))\n",
    "\n",
    "plt.plot(dth_by_year[\"Year\"], dth_by_year[\"Death Numbers\"])\n",
    "\n",
    "plt.show()"
   ]
  },
  {
   "cell_type": "markdown",
   "metadata": {},
   "source": [
    "¿Cuál es la mayor causa de defunción registrada en el dataset?"
   ]
  },
  {
   "cell_type": "code",
   "execution_count": null,
   "metadata": {},
   "outputs": [],
   "source": [
    "df.groupby(\"Causes name\")[\"Death Numbers\"].mean().sort_values().plot.barh()"
   ]
  },
  {
   "cell_type": "code",
   "execution_count": null,
   "metadata": {},
   "outputs": [],
   "source": [
    "dth_by_causes = df.groupby(\"Causes name\", as_index=False)[\"Death Numbers\"].mean().sort_values(by=\"Death Numbers\")\n",
    "\n",
    "fig = plt.figure(figsize=(7.5,13.333))\n",
    "\n",
    "plt.barh(dth_by_causes[\"Causes name\"], dth_by_causes[\"Death Numbers\"])\n",
    "\n",
    "plt.show()\n"
   ]
  },
  {
   "cell_type": "markdown",
   "metadata": {},
   "source": [
    "# Pivot.\n",
    "\n",
    "¿Cuál ha sido la tendencia del número de defunciones por causa de fallecimiento?"
   ]
  },
  {
   "cell_type": "code",
   "execution_count": null,
   "metadata": {},
   "outputs": [],
   "source": [
    "df.pivot_table(index=\"Year\", columns=\"Causes name\", values=\"Death Numbers\", aggfunc=\"sum\")"
   ]
  },
  {
   "cell_type": "code",
   "execution_count": null,
   "metadata": {},
   "outputs": [],
   "source": [
    "df2 = df.pivot_table(index=\"Year\", columns=\"Causes name\", values=\"Death Numbers\", aggfunc=\"sum\")"
   ]
  },
  {
   "cell_type": "code",
   "execution_count": null,
   "metadata": {},
   "outputs": [],
   "source": [
    "fig, ax = plt.subplots(1, figsize=(13.333,6.5))\n",
    "\n",
    "df2.plot(ax=ax)\n",
    "\n",
    "plt.show()"
   ]
  },
  {
   "cell_type": "code",
   "execution_count": null,
   "metadata": {},
   "outputs": [],
   "source": [
    "df2.reset_index().melt(value_vars=df2.columns, id_vars=\"Year\")"
   ]
  },
  {
   "cell_type": "code",
   "execution_count": null,
   "metadata": {},
   "outputs": [],
   "source": [
    "df3 = df2.reset_index().melt(value_vars=df2.columns, id_vars=\"Year\")\n",
    "\n",
    "px.line(x=\"Year\", y=\"value\", color=\"Causes name\", data_frame=df3)"
   ]
  },
  {
   "cell_type": "code",
   "execution_count": null,
   "metadata": {},
   "outputs": [],
   "source": [
    "df3 = df2.reset_index().melt(value_vars=df2.columns, id_vars=\"Year\")\n",
    "\n",
    "px.line(x=\"Year\", y=\"value\", color=\"Causes name\", data_frame=df3, width=1280, height=720)"
   ]
  },
  {
   "cell_type": "code",
   "execution_count": null,
   "metadata": {},
   "outputs": [],
   "source": [
    "fig = px.imshow(df2.T, width=900, height=720)\n",
    "fig.show()"
   ]
  }
 ],
 "metadata": {
  "interpreter": {
   "hash": "802f5d5cf83364151a8eb6dc0bf7b77a59671c15e27291db6a9cef4bdbde229b"
  },
  "kernelspec": {
   "display_name": "Python 3.8.9 ('.cfm_env')",
   "language": "python",
   "name": "python3"
  },
  "language_info": {
   "codemirror_mode": {
    "name": "ipython",
    "version": 3
   },
   "file_extension": ".py",
   "mimetype": "text/x-python",
   "name": "python",
   "nbconvert_exporter": "python",
   "pygments_lexer": "ipython3",
   "version": "3.8.9"
  },
  "orig_nbformat": 4
 },
 "nbformat": 4,
 "nbformat_minor": 2
}
