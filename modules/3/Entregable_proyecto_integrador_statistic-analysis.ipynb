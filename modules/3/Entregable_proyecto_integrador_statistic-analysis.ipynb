{
 "cells": [
  {
   "cell_type": "markdown",
   "id": "bb922de5",
   "metadata": {},
   "source": [
    "# Proyecto Integrador"
   ]
  },
  {
   "cell_type": "markdown",
   "id": "5205658a",
   "metadata": {},
   "source": [
    "El objetivo de este entregable es analizar el conjunto de datos de nuestro proyecto integrador del diplomado.\n",
    "Realizaremos un análisis exploratorio estadístico para comprender la composición de nuestro conjunto de datos para el set de flights.csv con información de operaciones aéreas que se nos proporcionó (citar fuente).\n",
    "\n",
    "Primero importaremos los datos y los módulos con los que trabajaremos y a continuación definiremos las tareas que se realizarán como parte del entregable:"
   ]
  },
  {
   "cell_type": "code",
   "execution_count": 2,
   "id": "35abadf0",
   "metadata": {},
   "outputs": [],
   "source": [
    "import pandas as pd\n",
    "import numpy as np\n",
    "import matplotlib.pyplot as plt\n",
    "import seaborn as sns\n",
    "from sklearn.model_selection import StratifiedShuffleSplit\n",
    "\n",
    "#airline_path = 'datasets/airlines.csv'\n",
    "#airport_path = 'datasets/airports.csv'\n",
    "flights_path = 'datasets/flights.csv'"
   ]
  },
  {
   "cell_type": "code",
   "execution_count": null,
   "id": "25e53565",
   "metadata": {},
   "outputs": [],
   "source": [
    "# Set data on import\n",
    "def parse_if_str(s):\n",
    "    try: return str(s)\n",
    "    except: return True if s==\"true\" else False if s==\"false\" else s if s else None\n",
    "\n",
    "# def parse_ndarray(s):\n",
    "#     return np.fromstring(s, sep=' ') if s else None"
   ]
  },
  {
   "cell_type": "code",
   "execution_count": null,
   "id": "fe9971f0",
   "metadata": {},
   "outputs": [],
   "source": [
    "fdf = pd.read_csv(flights_path, converters = {\n",
    "    'DESTINATION_AIRPORT': parse_if_str,\n",
    "    'ORIGIN_AIRPORT': parse_if_str})"
   ]
  },
  {
   "cell_type": "markdown",
   "id": "4dc2fe26",
   "metadata": {},
   "source": [
    "## Parte I: Análisis exploratorio \n",
    "\n",
    "1. Medidas de tendencia central\n",
    "\n",
    "    a.\tExplora las variables del conjunto de datos flights.csv, observa lo siguiente:\n",
    "        \n",
    "        i. La forma de los datos. Utiliza las funciones de pandas para obtener información sobre la cantidad de filas y columnas existentes. \n",
    "        ii. La cantidad de datos faltantes. Obtén un resumen de los datos faltantes de las variables en el conjunto de datos y observa si puede ser un problema para el análisis.\n",
    "        iii. Tipos de datos de las variables. Explora el tipo de dato de las variables y analiza si son los tipos esperados.\n",
    "        iv. Estadísticas generales de las variables\n",
    "            1. Máximo y mínimo\n",
    "            2. Media y mediana\n",
    "            \n",
    "    b.\tExplora las medidas de tendencia central de los retrasos en las aerolíneas, contesta las siguientes preguntas:\n",
    "        \n",
    "        i. ¿Qué destinos tienen mayor cantidad de vuelos en nuestro conjunto de datos?\n",
    "        ii. ¿Qué aerolíneas tienen mayor cantidad de vuelos en nuestro conjunto de datos?\n",
    "        iii. ¿Qué aerolíneas presentan más retrasos?\n",
    "        iv. ¿Qué destinos presentan más retrasos?\n",
    "        v. ¿Cuáles son los retrasos más grandes en las aerolíneas?\n",
    "        vi. Compara las medidas de dispersión entre las aerolíneas.\n",
    "\n",
    "2.\tDistribuciones de probabilidad\n",
    "    \n",
    "    a.\tExplora las distribuciones de los datos\n",
    "    \n",
    "        i.\tGrafica la distribución de tiempos de retraso de los vuelos y contesta las siguientes preguntas:\n",
    "            1.\t¿Cómo se distribuye el tiempo de retraso?\n",
    "            2.\t¿Es parecido a una distribución normal?\n",
    "            3.\t¿Parece seguir alguna otra distribución? \n",
    "\n"
   ]
  },
  {
   "cell_type": "markdown",
   "id": "b28a98be",
   "metadata": {},
   "source": [
    "## Parte II: Intervalos de confianza y pruebas de hipótesis\n",
    "\n",
    "3.\tIncertidumbre e intervalos de confianza\n",
    "\n",
    "        a.\tCalcula el promedio de retraso de cada aerolínea\n",
    "        \n",
    "        b.\tCalcula los intervalos de confianza con un 95% de confianza\n",
    "        \n",
    "        c.\tGrafica los intervalos de confianza \n",
    "\n",
    "4.\tPruebas de hipótesis\n",
    "    \n",
    "        a.\tPlantear el problema\n",
    "        \n",
    "            i.\tTenemos que decidir entre una aerolínea u otra. Somos viajeros frecuentes en Spirit Air Lines, si queremos viajar con la menor posibilidad de retrasos nos han recomendado United Airlines. Corroboremos con base en datos si cambiar de aerolínea a United Airlines. \n",
    "    \n",
    "        b.\tPlantear la hipótesis\n",
    "        \n",
    "            i.\tPlantea la hipótesis nula y la hipótesis alternativa. \n",
    "    \n",
    "        c.\tUtiliza una prueba t para probar o rechazar la hipótesis, escribe tus conclusiones con base en los resultados obtenidos. \n"
   ]
  },
  {
   "cell_type": "markdown",
   "id": "6e281d06",
   "metadata": {},
   "source": [
    "## Parte III:  Ingeniería de variables\n",
    "\n",
    "5.\tIngeniería de variables\n",
    "    \n",
    "       a.Importancia de variables\n",
    "        \n",
    "            i. Determina la variable objetivo del problema.\n",
    "            ii. Calcula la matriz de correlación\n",
    "            iii. Determina las variables más relevantes para la variable objetivo.  \n",
    "\n",
    "        b.\tImputación e interacción entre variables\n",
    "        \n",
    "            i. Exploración de los datos nulos\n",
    "            ii. De las variables relevantes, ¿cuántos datos estamos perdiendo?\n",
    "            iii. Analiza si podemos hacer una imputación sobre esas variables y escribe tus conclusiones. \n"
   ]
  },
  {
   "cell_type": "markdown",
   "id": "2d81ef1f",
   "metadata": {},
   "source": [
    "### 5. Ingeniería de variables"
   ]
  },
  {
   "cell_type": "markdown",
   "id": "eda1832a",
   "metadata": {},
   "source": [
    "#### b. Imputación e interaccion entre variables"
   ]
  },
  {
   "cell_type": "markdown",
   "id": "c9abd77c",
   "metadata": {},
   "source": [
    "##### Exploración de los datos nulos"
   ]
  },
  {
   "cell_type": "code",
   "execution_count": 1,
   "id": "1ecdfa36",
   "metadata": {},
   "outputs": [],
   "source": [
    "# Exploracion de los datos nulos"
   ]
  }
 ],
 "metadata": {
  "kernelspec": {
   "display_name": "Python 3 (ipykernel)",
   "language": "python",
   "name": "python3"
  },
  "language_info": {
   "codemirror_mode": {
    "name": "ipython",
    "version": 3
   },
   "file_extension": ".py",
   "mimetype": "text/x-python",
   "name": "python",
   "nbconvert_exporter": "python",
   "pygments_lexer": "ipython3",
   "version": "3.10.3"
  }
 },
 "nbformat": 4,
 "nbformat_minor": 5
}
