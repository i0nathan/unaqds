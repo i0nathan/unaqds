{
 "cells": [
  {
   "cell_type": "code",
   "execution_count": 1,
   "id": "e835e377",
   "metadata": {},
   "outputs": [],
   "source": [
    "#Proyecto M3, Par II, E3. Intervalos de confianza"
   ]
  },
  {
   "cell_type": "code",
   "execution_count": 2,
   "id": "788c3af1",
   "metadata": {},
   "outputs": [],
   "source": [
    "import pandas as pd\n",
    "import numpy as np\n",
    "import matplotlib.pyplot as plt\n",
    "import seaborn as sns\n",
    "%matplotlib inline"
   ]
  },
  {
   "cell_type": "code",
   "execution_count": 4,
   "id": "738a0023",
   "metadata": {},
   "outputs": [],
   "source": [
    "# Leyendo los archivos\n",
    "\n",
    "flights = pd.read_csv('flights.csv', low_memory=False)\n"
   ]
  },
  {
   "cell_type": "code",
   "execution_count": 5,
   "id": "72be17c7",
   "metadata": {},
   "outputs": [
    {
     "name": "stdout",
     "output_type": "stream",
     "text": [
      "   YEAR  MONTH  DAY  DAY_OF_WEEK AIRLINE  FLIGHT_NUMBER TAIL_NUMBER  \\\n",
      "0  2015      1    1            4      AS             98      N407AS   \n",
      "1  2015      1    1            4      AA           2336      N3KUAA   \n",
      "2  2015      1    1            4      US            840      N171US   \n",
      "3  2015      1    1            4      AA            258      N3HYAA   \n",
      "4  2015      1    1            4      AS            135      N527AS   \n",
      "5  2015      1    1            4      DL            806      N3730B   \n",
      "6  2015      1    1            4      NK            612      N635NK   \n",
      "7  2015      1    1            4      US           2013      N584UW   \n",
      "8  2015      1    1            4      AA           1112      N3LAAA   \n",
      "9  2015      1    1            4      DL           1173      N826DN   \n",
      "\n",
      "  ORIGIN_AIRPORT DESTINATION_AIRPORT  SCHEDULED_DEPARTURE  ...  ARRIVAL_TIME  \\\n",
      "0            ANC                 SEA                    5  ...         408.0   \n",
      "1            LAX                 PBI                   10  ...         741.0   \n",
      "2            SFO                 CLT                   20  ...         811.0   \n",
      "3            LAX                 MIA                   20  ...         756.0   \n",
      "4            SEA                 ANC                   25  ...         259.0   \n",
      "5            SFO                 MSP                   25  ...         610.0   \n",
      "6            LAS                 MSP                   25  ...         509.0   \n",
      "7            LAX                 CLT                   30  ...         753.0   \n",
      "8            SFO                 DFW                   30  ...         532.0   \n",
      "9            LAS                 ATL                   30  ...         656.0   \n",
      "\n",
      "   ARRIVAL_DELAY  DIVERTED  CANCELLED  CANCELLATION_REASON  AIR_SYSTEM_DELAY  \\\n",
      "0          -22.0         0          0                  NaN               NaN   \n",
      "1           -9.0         0          0                  NaN               NaN   \n",
      "2            5.0         0          0                  NaN               NaN   \n",
      "3           -9.0         0          0                  NaN               NaN   \n",
      "4          -21.0         0          0                  NaN               NaN   \n",
      "5            8.0         0          0                  NaN               NaN   \n",
      "6          -17.0         0          0                  NaN               NaN   \n",
      "7          -10.0         0          0                  NaN               NaN   \n",
      "8          -13.0         0          0                  NaN               NaN   \n",
      "9          -15.0         0          0                  NaN               NaN   \n",
      "\n",
      "   SECURITY_DELAY  AIRLINE_DELAY  LATE_AIRCRAFT_DELAY  WEATHER_DELAY  \n",
      "0             NaN            NaN                  NaN            NaN  \n",
      "1             NaN            NaN                  NaN            NaN  \n",
      "2             NaN            NaN                  NaN            NaN  \n",
      "3             NaN            NaN                  NaN            NaN  \n",
      "4             NaN            NaN                  NaN            NaN  \n",
      "5             NaN            NaN                  NaN            NaN  \n",
      "6             NaN            NaN                  NaN            NaN  \n",
      "7             NaN            NaN                  NaN            NaN  \n",
      "8             NaN            NaN                  NaN            NaN  \n",
      "9             NaN            NaN                  NaN            NaN  \n",
      "\n",
      "[10 rows x 31 columns]\n",
      "Number of rows contained in Flights.csv is: 5819079\n",
      "Number of columns contained in Flights.csv is: 31\n"
     ]
    }
   ],
   "source": [
    "#Leyendo las primeras 10 filas de cada flights\n",
    "print (flights.head(10))\n",
    "print('Number of rows contained in Flights.csv is:',flights.shape[0])\n",
    "print('Number of columns contained in Flights.csv is:',flights.shape[1])"
   ]
  },
  {
   "cell_type": "code",
   "execution_count": 6,
   "id": "8c133869",
   "metadata": {},
   "outputs": [
    {
     "data": {
      "text/plain": [
       "YEAR                         0\n",
       "MONTH                        0\n",
       "DAY                          0\n",
       "DAY_OF_WEEK                  0\n",
       "AIRLINE                      0\n",
       "FLIGHT_NUMBER                0\n",
       "TAIL_NUMBER              14721\n",
       "ORIGIN_AIRPORT               0\n",
       "DESTINATION_AIRPORT          0\n",
       "SCHEDULED_DEPARTURE          0\n",
       "DEPARTURE_TIME           86153\n",
       "DEPARTURE_DELAY          86153\n",
       "TAXI_OUT                 89047\n",
       "WHEELS_OFF               89047\n",
       "SCHEDULED_TIME               6\n",
       "ELAPSED_TIME            105071\n",
       "AIR_TIME                105071\n",
       "DISTANCE                     0\n",
       "WHEELS_ON                92513\n",
       "TAXI_IN                  92513\n",
       "SCHEDULED_ARRIVAL            0\n",
       "ARRIVAL_TIME             92513\n",
       "ARRIVAL_DELAY           105071\n",
       "DIVERTED                     0\n",
       "CANCELLED                    0\n",
       "CANCELLATION_REASON    5729195\n",
       "AIR_SYSTEM_DELAY       4755640\n",
       "SECURITY_DELAY         4755640\n",
       "AIRLINE_DELAY          4755640\n",
       "LATE_AIRCRAFT_DELAY    4755640\n",
       "WEATHER_DELAY          4755640\n",
       "dtype: int64"
      ]
     },
     "execution_count": 6,
     "metadata": {},
     "output_type": "execute_result"
    }
   ],
   "source": [
    "#datos faltantes para Flights.csv\n",
    "flights.isnull().sum()"
   ]
  },
  {
   "cell_type": "code",
   "execution_count": 7,
   "id": "6fb8efea",
   "metadata": {},
   "outputs": [
    {
     "data": {
      "text/plain": [
       "YEAR                     int64\n",
       "MONTH                    int64\n",
       "DAY                      int64\n",
       "DAY_OF_WEEK              int64\n",
       "AIRLINE                 object\n",
       "FLIGHT_NUMBER            int64\n",
       "TAIL_NUMBER             object\n",
       "ORIGIN_AIRPORT          object\n",
       "DESTINATION_AIRPORT     object\n",
       "SCHEDULED_DEPARTURE      int64\n",
       "DEPARTURE_TIME         float64\n",
       "DEPARTURE_DELAY        float64\n",
       "TAXI_OUT               float64\n",
       "WHEELS_OFF             float64\n",
       "SCHEDULED_TIME         float64\n",
       "ELAPSED_TIME           float64\n",
       "AIR_TIME               float64\n",
       "DISTANCE                 int64\n",
       "WHEELS_ON              float64\n",
       "TAXI_IN                float64\n",
       "SCHEDULED_ARRIVAL        int64\n",
       "ARRIVAL_TIME           float64\n",
       "ARRIVAL_DELAY          float64\n",
       "DIVERTED                 int64\n",
       "CANCELLED                int64\n",
       "CANCELLATION_REASON     object\n",
       "AIR_SYSTEM_DELAY       float64\n",
       "SECURITY_DELAY         float64\n",
       "AIRLINE_DELAY          float64\n",
       "LATE_AIRCRAFT_DELAY    float64\n",
       "WEATHER_DELAY          float64\n",
       "dtype: object"
      ]
     },
     "execution_count": 7,
     "metadata": {},
     "output_type": "execute_result"
    }
   ],
   "source": [
    "#Tipos de datos para Flights.csv\n",
    "flights.dtypes"
   ]
  },
  {
   "cell_type": "code",
   "execution_count": 43,
   "id": "90d8000c",
   "metadata": {},
   "outputs": [
    {
     "data": {
      "text/html": [
       "<div>\n",
       "<style scoped>\n",
       "    .dataframe tbody tr th:only-of-type {\n",
       "        vertical-align: middle;\n",
       "    }\n",
       "\n",
       "    .dataframe tbody tr th {\n",
       "        vertical-align: top;\n",
       "    }\n",
       "\n",
       "    .dataframe thead th {\n",
       "        text-align: right;\n",
       "    }\n",
       "</style>\n",
       "<table border=\"1\" class=\"dataframe\">\n",
       "  <thead>\n",
       "    <tr style=\"text-align: right;\">\n",
       "      <th></th>\n",
       "      <th>AIRLINE</th>\n",
       "      <th>ARRIVAL_DELAY</th>\n",
       "    </tr>\n",
       "  </thead>\n",
       "  <tbody>\n",
       "    <tr>\n",
       "      <th>0</th>\n",
       "      <td>AA</td>\n",
       "      <td>3.451372</td>\n",
       "    </tr>\n",
       "    <tr>\n",
       "      <th>1</th>\n",
       "      <td>AS</td>\n",
       "      <td>-0.976563</td>\n",
       "    </tr>\n",
       "    <tr>\n",
       "      <th>2</th>\n",
       "      <td>B6</td>\n",
       "      <td>6.677861</td>\n",
       "    </tr>\n",
       "    <tr>\n",
       "      <th>3</th>\n",
       "      <td>DL</td>\n",
       "      <td>0.186754</td>\n",
       "    </tr>\n",
       "    <tr>\n",
       "      <th>4</th>\n",
       "      <td>EV</td>\n",
       "      <td>6.585379</td>\n",
       "    </tr>\n",
       "    <tr>\n",
       "      <th>5</th>\n",
       "      <td>F9</td>\n",
       "      <td>12.504706</td>\n",
       "    </tr>\n",
       "    <tr>\n",
       "      <th>6</th>\n",
       "      <td>HA</td>\n",
       "      <td>2.023093</td>\n",
       "    </tr>\n",
       "    <tr>\n",
       "      <th>7</th>\n",
       "      <td>MQ</td>\n",
       "      <td>6.457873</td>\n",
       "    </tr>\n",
       "    <tr>\n",
       "      <th>8</th>\n",
       "      <td>NK</td>\n",
       "      <td>14.471800</td>\n",
       "    </tr>\n",
       "    <tr>\n",
       "      <th>9</th>\n",
       "      <td>OO</td>\n",
       "      <td>5.845652</td>\n",
       "    </tr>\n",
       "    <tr>\n",
       "      <th>10</th>\n",
       "      <td>UA</td>\n",
       "      <td>5.431594</td>\n",
       "    </tr>\n",
       "    <tr>\n",
       "      <th>11</th>\n",
       "      <td>US</td>\n",
       "      <td>3.706209</td>\n",
       "    </tr>\n",
       "    <tr>\n",
       "      <th>12</th>\n",
       "      <td>VX</td>\n",
       "      <td>4.737706</td>\n",
       "    </tr>\n",
       "    <tr>\n",
       "      <th>13</th>\n",
       "      <td>WN</td>\n",
       "      <td>4.374964</td>\n",
       "    </tr>\n",
       "  </tbody>\n",
       "</table>\n",
       "</div>"
      ],
      "text/plain": [
       "   AIRLINE  ARRIVAL_DELAY\n",
       "0       AA       3.451372\n",
       "1       AS      -0.976563\n",
       "2       B6       6.677861\n",
       "3       DL       0.186754\n",
       "4       EV       6.585379\n",
       "5       F9      12.504706\n",
       "6       HA       2.023093\n",
       "7       MQ       6.457873\n",
       "8       NK      14.471800\n",
       "9       OO       5.845652\n",
       "10      UA       5.431594\n",
       "11      US       3.706209\n",
       "12      VX       4.737706\n",
       "13      WN       4.374964"
      ]
     },
     "execution_count": 43,
     "metadata": {},
     "output_type": "execute_result"
    }
   ],
   "source": [
    "flights.groupby('AIRLINE', as_index=False)['ARRIVAL_DELAY'].mean()"
   ]
  },
  {
   "cell_type": "code",
   "execution_count": 44,
   "id": "32e5ee8c",
   "metadata": {},
   "outputs": [
    {
     "name": "stdout",
     "output_type": "stream",
     "text": [
      "AA delays mean=  3.4513721447256764\n"
     ]
    }
   ],
   "source": [
    "AA_delays_mean= flights.ARRIVAL_DELAY[flights.AIRLINE == 'AA'].mean()\n",
    "\n",
    "print(\"AA delays mean= \", AA_delays_mean)"
   ]
  },
  {
   "cell_type": "code",
   "execution_count": 45,
   "id": "acccb81a",
   "metadata": {},
   "outputs": [
    {
     "name": "stdout",
     "output_type": "stream",
     "text": [
      "AS delays mean=  -0.9765630924118783\n"
     ]
    }
   ],
   "source": [
    "AS_delays_mean= flights.ARRIVAL_DELAY[flights.AIRLINE == 'AS'].mean()\n",
    "\n",
    "print(\"AS delays mean= \", AS_delays_mean)"
   ]
  },
  {
   "cell_type": "code",
   "execution_count": 46,
   "id": "dcacbe08",
   "metadata": {},
   "outputs": [
    {
     "name": "stdout",
     "output_type": "stream",
     "text": [
      "B6 delays mean=  6.677860800940307\n"
     ]
    }
   ],
   "source": [
    "B6_delays_mean= flights.ARRIVAL_DELAY[flights.AIRLINE == 'B6'].mean()\n",
    "\n",
    "print(\"B6 delays mean= \", B6_delays_mean)"
   ]
  },
  {
   "cell_type": "code",
   "execution_count": 61,
   "id": "01b4fd9b",
   "metadata": {},
   "outputs": [
    {
     "name": "stdout",
     "output_type": "stream",
     "text": [
      "Media de la Población: 4.407057357987598\n"
     ]
    }
   ],
   "source": [
    "flightsDELAY_mean=flights.ARRIVAL_DELAY.mean()\n",
    "print(\"Media de la Población:\", flightsDELAY_mean)"
   ]
  },
  {
   "cell_type": "code",
   "execution_count": 71,
   "id": "567b8f18",
   "metadata": {},
   "outputs": [],
   "source": [
    "\n",
    "%matplotlib inline\n",
    "\n",
    "import numpy as np\n",
    "import pandas as pd\n",
    "import scipy.stats as stats\n",
    "import matplotlib.pyplot as plt\n",
    "import random\n",
    "import math\n",
    "import seaborn as sns"
   ]
  },
  {
   "cell_type": "code",
   "execution_count": 99,
   "id": "54ee8e26",
   "metadata": {},
   "outputs": [
    {
     "name": "stdout",
     "output_type": "stream",
     "text": [
      "Renglones eliminados:105071\n",
      "Renglones remanentes:5714008\n",
      "Porcentaje de renglones remanentes:  98.1943706211928 %\n"
     ]
    }
   ],
   "source": [
    "#Eliminación de datos nulos para evitar media=nan\n",
    "new_ARRIVAL_delays = flights.ARRIVAL_DELAY.dropna()\n",
    "print( 'Renglones eliminados:' + str(flights.ARRIVAL_DELAY.shape[0] - new_ARRIVAL_delays.shape[0]) )\n",
    "print( 'Renglones remanentes:' + str(new_ARRIVAL_delays.shape[0]) )\n",
    "porcentaje = ((new_ARRIVAL_delays.shape[0] / flights.ARRIVAL_DELAY.shape[0]  )*100 )\n",
    "print( 'Porcentaje de renglones remanentes: ', porcentaje, '%')"
   ]
  },
  {
   "cell_type": "code",
   "execution_count": 105,
   "id": "148ef966",
   "metadata": {},
   "outputs": [
    {
     "name": "stdout",
     "output_type": "stream",
     "text": [
      "Media de la muestra:  4.4193\n"
     ]
    }
   ],
   "source": [
    "#Calculemos un intervalo de confianza del 95% para nuestra media\n",
    "# primero fijamos una semilla aleatoria para \n",
    "# que los resultados sean siempre los mismos\n",
    "np.random.seed(100)\n",
    "\n",
    "# Tomemos una muestra de 10000\n",
    "sample_size = 10000\n",
    "sample = np.random.choice(a=new_ARRIVAL_delays, size=sample_size)\n",
    "\n",
    "# calculemos la media\n",
    "sample_mean = sample.mean()\n",
    "print(\"Media de la muestra: \", sample_mean)"
   ]
  },
  {
   "cell_type": "code",
   "execution_count": 106,
   "id": "a03ad733",
   "metadata": {
    "scrolled": true
   },
   "outputs": [
    {
     "name": "stdout",
     "output_type": "stream",
     "text": [
      "Valor crítico: 1.959963984540054\n"
     ]
    }
   ],
   "source": [
    "# calculemos el valor crítico de Z\n",
    "# queremos el 95% de confianza, usamos q=0.975 porque la distribución tiene dos colas\n",
    "# 0.25 a la derecha y 0.25 a la izquierda. Por eso el parámetro\n",
    "z_critical = stats.norm.ppf(q = 0.975)\n",
    "print(\"Valor crítico:\", z_critical)"
   ]
  },
  {
   "cell_type": "code",
   "execution_count": 107,
   "id": "d58ee4e3",
   "metadata": {},
   "outputs": [
    {
     "name": "stdout",
     "output_type": "stream",
     "text": [
      "DesvSTD de la Población: 39.271297093929846\n"
     ]
    }
   ],
   "source": [
    "# Obtengamos la desviación estándar de la población\n",
    "# este valor no siempre lo tendremos a la hora de calcular \n",
    "# intervalos de confianza pero por ahora supongamos que podemos\n",
    "# acceder a él.\n",
    "\n",
    "flightsDELAY_std=new_ARRIVAL_delays.std()\n",
    "print(\"DesvSTD de la Población:\", flightsDELAY_std)"
   ]
  },
  {
   "cell_type": "code",
   "execution_count": 108,
   "id": "af2cf88d",
   "metadata": {},
   "outputs": [
    {
     "name": "stdout",
     "output_type": "stream",
     "text": [
      "Margen de error:  0.7697032793027498\n"
     ]
    }
   ],
   "source": [
    "# calculamos el margen de error\n",
    "margin_of_error = z_critical * (flightsDELAY_std/math.sqrt(sample_size))\n",
    "print(\"Margen de error: \", margin_of_error)"
   ]
  },
  {
   "cell_type": "code",
   "execution_count": 113,
   "id": "3d2eb07d",
   "metadata": {},
   "outputs": [
    {
     "name": "stdout",
     "output_type": "stream",
     "text": [
      "Media poblacional:  4.407057357987598\n",
      "Media muestral:  4.4193\n",
      "Intervalos de confianza:\n",
      "Inferior:  3.64959672069725\n",
      "Superior:  5.189003279302749\n"
     ]
    }
   ],
   "source": [
    "# intervalo superior\n",
    "sup = sample_mean + margin_of_error\n",
    "inf = sample_mean - margin_of_error\n",
    "\n",
    "print(\"Media poblacional: \", flightsDELAY_mean)\n",
    "print(\"Media muestral: \", sample_mean)\n",
    "print(\"Intervalos de confianza:\")\n",
    "print(\"Inferior: \", inf)\n",
    "print(\"Superior: \", sup)"
   ]
  },
  {
   "cell_type": "markdown",
   "id": "b41df708",
   "metadata": {},
   "source": [
    "En la grafica mostramos\n",
    "\n",
    "El histograma de la población en azúl\n",
    "La media poblacional en rojo\n",
    "La media muestral en negro\n",
    "Los intervalos de confianza en amarillo"
   ]
  },
  {
   "cell_type": "code",
   "execution_count": 117,
   "id": "651589ab",
   "metadata": {},
   "outputs": [
    {
     "data": {
      "image/png": "[encoded data removed]",
      "text/plain": [
       "<Figure size 360x360 with 1 Axes>"
      ]
     },
     "metadata": {
      "needs_background": "light"
     },
     "output_type": "display_data"
    }
   ],
   "source": [
    "# Grafiquemos \n",
    "ax = sns.displot(flights.ARRIVAL_DELAY);\n",
    "\n",
    "plt.axvline(flightsDELAY_mean, color='red', ls='-');\n",
    "plt.axvline(sample_mean, color='black', ls='-');\n",
    "plt.axvline(inf, color='yellow', ls='-');\n",
    "plt.axvline(sup, color='yellow', ls='-');\n"
   ]
  },
  {
   "cell_type": "code",
   "execution_count": null,
   "id": "decacf44",
   "metadata": {},
   "outputs": [],
   "source": []
  },
  {
   "cell_type": "code",
   "execution_count": null,
   "id": "df99f726",
   "metadata": {},
   "outputs": [],
   "source": []
  }
 ],
 "metadata": {
  "kernelspec": {
   "display_name": "Python 3 (ipykernel)",
   "language": "python",
   "name": "python3"
  },
  "language_info": {
   "codemirror_mode": {
    "name": "ipython",
    "version": 3
   },
   "file_extension": ".py",
   "mimetype": "text/x-python",
   "name": "python",
   "nbconvert_exporter": "python",
   "pygments_lexer": "ipython3",
   "version": "3.9.7"
  }
 },
 "nbformat": 4,
 "nbformat_minor": 5
}
