{
 "cells": [
  {
   "cell_type": "markdown",
   "id": "f2f38a4c",
   "metadata": {},
   "source": [
    "# Flight Delay Prediction"
   ]
  },
  {
   "cell_type": "markdown",
   "id": "8e3b886b",
   "metadata": {},
   "source": [
    "- El objetivo de este caso de estudio es proponer un enfoque para encontrar causales y estrategias para reducción o prevención en pérdidas por retrasos en los sistemas de transporte aéreo.\n",
    "\n",
    "- Para lograr este objetivo, debemos definir el foco desde donde se hará el análisis, así como las herramientas mas adhoc para el análisis de la información.\n",
    "\n",
    "- Se nos es dado un dataset para trabajar, por lo que tenemos algunas preguntase que quiero proponer a responder para ayudarnos a identificar el enfoque del estudio:\n",
    "\n",
    "    Preguntas:\tCómo podemos usar esta información para identificar causas de retrasos?\n",
    "                    Cuántas causas podemos identificar a partir de esta información?\n",
    "                    Qué otra información podríamos integrar? deberíamos integarar más?\n",
    "                    Qué enfoque se debe tomar? Delay propagation, root delay or cancellation\n",
    "                    \n",
    "- La información con la que contamos son 3 archivos con información de las aerolineas, aeropuertos e información de vuelos:\n",
    "\n",
    "        Airline.csv\t  =>  IATA-CODE, AIRLNE\n",
    "        Airports.csv  =>  IATA_CODE, AIRPORT, CITY, STATE, COUNTRY, LATITUDE, LONGITUDEt\n",
    "        Flights.csv   =>  YEAR, MONTH, DAY, DAY_OF_WEEK, AIRLINE, FLIGHT_NUMBER, TAIL_NUMBER, ORIGIN_ARIPORT,\n",
    "\t\t\t\t\t\t\tDESTINATION_AIRPORT, SCHEDULED_DEPARTURE, WHEELS_OFF, TAXI_OUT, DEPARTURE_TIME,\n",
    "\t\t\t\t\t\t\tSCHEDULED_TIME, AIR_TIME, DISTANCE, TAXI_IN, ELAPSED_TIME, SCHEDULED_ARRIVAL,\n",
    "\t\t\t\t\t\t\tARRIVAL_TIME, ARRIVAL_DELAY, DIVERTED, CANCELLED, CANCELLATION_REASON,\n",
    "                            AIR_SYSTEM_DELAY, SECURITY_DELAY, AIRLNE_DELAY, LATE_AIRCRAFT_DELAY, WEATHER_DELAY\n",
    "                                        \n",
    "- Al hacer una exploración inicial, me gustaría proponer tambien una hipótesis de las correlaciones que pudiéramos hacer de la información que tenemos:\n",
    "\n",
    "        Hipótesis:\t1. Con esta informacion podemos encontrar correlaciones entre retrasos por aerolinea\n",
    "                    lo que nos podría indicar un problema en las operaciones de ciertas aerolineas\n",
    "                    2. Podemos observar si hay correlaciones entre los aeropuertos de salida y destinos.\n",
    "                    Nos podría indicar si hay rutas que son más problemáticas; lo que podría ser\n",
    "                    consecuencia de condiciones ambientales, rutas en esas ciudades (para que llegen\n",
    "                    los pasajeros al aeropuerto), ciudades más afluentes (eventos sociales), trabajos de\n",
    "                    construcción en carreteras\n",
    "                    3. Tiempos de retraso por aeropuerto (similar a 1) relacionado a las operaciones\n",
    "                    aeroportuarias (manejo de pista, control aereo)\n",
    "                    4. Razones de cancelación: buscar patrones que relacionen causas con aeropuertos, \n",
    "                    rutas, aviones, días específicos\n",
    "                    5. Razones de cancelación: cancelaciones más frecuentes en ciertas épocas del año\n",
    "                    o correlación con 2\n",
    "                    6. En los casos de desvíos, a qué aeropuertos se reenrutan las aeronaves y desde qué\n",
    "                    areopuertos (se puede mejorar esto?)"
   ]
  },
  {
   "cell_type": "markdown",
   "id": "0154d538",
   "metadata": {},
   "source": [
    "## Exploración\n",
    "- Para hacer una exploración inicial de la información, usaremos algunos módulos de python para importar los datasets y hacer algunas gráficas"
   ]
  },
  {
   "cell_type": "code",
   "execution_count": 1,
   "id": "bb37dbed",
   "metadata": {},
   "outputs": [
    {
     "ename": "ModuleNotFoundError",
     "evalue": "No module named 'pandas'",
     "output_type": "error",
     "traceback": [
      "\u001b[1;31m---------------------------------------------------------------------------\u001b[0m",
      "\u001b[1;31mModuleNotFoundError\u001b[0m                       Traceback (most recent call last)",
      "\u001b[1;32mC:\\Users\\HPPAVI~1\\AppData\\Local\\Temp/ipykernel_8244/3595243444.py\u001b[0m in \u001b[0;36m<module>\u001b[1;34m\u001b[0m\n\u001b[1;32m----> 1\u001b[1;33m \u001b[1;32mimport\u001b[0m \u001b[0mpandas\u001b[0m \u001b[1;32mas\u001b[0m \u001b[0mpd\u001b[0m\u001b[1;33m\u001b[0m\u001b[1;33m\u001b[0m\u001b[0m\n\u001b[0m\u001b[0;32m      2\u001b[0m \u001b[1;33m\u001b[0m\u001b[0m\n\u001b[0;32m      3\u001b[0m \u001b[0mairline_path\u001b[0m \u001b[1;33m=\u001b[0m \u001b[1;34m'datasets/airlines.csv'\u001b[0m\u001b[1;33m\u001b[0m\u001b[1;33m\u001b[0m\u001b[0m\n\u001b[0;32m      4\u001b[0m \u001b[0mairport_path\u001b[0m \u001b[1;33m=\u001b[0m \u001b[1;34m'datasets/airports.csv'\u001b[0m\u001b[1;33m\u001b[0m\u001b[1;33m\u001b[0m\u001b[0m\n\u001b[0;32m      5\u001b[0m \u001b[0mflight_path\u001b[0m \u001b[1;33m=\u001b[0m \u001b[1;34m'datasets/flights.csv'\u001b[0m\u001b[1;33m\u001b[0m\u001b[1;33m\u001b[0m\u001b[0m\n",
      "\u001b[1;31mModuleNotFoundError\u001b[0m: No module named 'pandas'"
     ]
    }
   ],
   "source": [
    "import pandas as pd\n",
    "\n",
    "airline_path = 'datasets/airlines.csv'\n",
    "airport_path = 'datasets/airports.csv'\n",
    "flight_path = 'datasets/flights.csv'\n",
    "\n",
    "airline_df = pd.read_csv(airline_path)\n",
    "airport_df = pd.read_csv(airport_path)\n",
    "flight_df = pd.read_csv(flight_path)"
   ]
  }
 ],
 "metadata": {
  "kernelspec": {
   "display_name": "Python 3 (ipykernel)",
   "language": "python",
   "name": "python3"
  },
  "language_info": {
   "codemirror_mode": {
    "name": "ipython",
    "version": 3
   },
   "file_extension": ".py",
   "mimetype": "text/x-python",
   "name": "python",
   "nbconvert_exporter": "python",
   "pygments_lexer": "ipython3",
   "version": "3.10.0"
  }
 },
 "nbformat": 4,
 "nbformat_minor": 5
}
